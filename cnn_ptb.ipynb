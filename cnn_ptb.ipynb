{
  "nbformat": 4,
  "nbformat_minor": 5,
  "metadata": {
    "colab": {
      "provenance": [],
      "toc_visible": true
    },
    "kernelspec": {
      "display_name": "Python 3",
      "language": "python",
      "name": "python3"
    },
    "language_info": {
      "codemirror_mode": {
        "name": "ipython",
        "version": 3
      },
      "file_extension": ".py",
      "mimetype": "text/x-python",
      "name": "python",
      "nbconvert_exporter": "python",
      "pygments_lexer": "ipython3",
      "version": "3.8.5"
    }
  },
  "cells": [
    {
      "cell_type": "markdown",
      "metadata": {
        "id": "h1pXWdsq_3jN"
      },
      "source": [
        "\n",
        "### This notebook details the building of a CNN model that classifies (PTB Diagnostic Database) ECG data."
      ],
      "id": "h1pXWdsq_3jN"
    },
    {
      "cell_type": "code",
      "metadata": {
        "id": "lAuwhT1AAlaW"
      },
      "source": [
        "#from google.colab import drive\n",
        "#drive.mount('/content/drive')"
      ],
      "id": "lAuwhT1AAlaW",
      "execution_count": null,
      "outputs": []
    },
    {
      "cell_type": "markdown",
      "metadata": {
        "id": "HAqWpReQ_3j0"
      },
      "source": [
        "The chosen dataset is the [the PTB Diagnostic ECG Dataset](https://www.physionet.org/content/ptbdb/1.0.0/)"
      ],
      "id": "HAqWpReQ_3j0"
    },
    {
      "cell_type": "markdown",
      "metadata": {
        "id": "L1Uk2KYb_3j4"
      },
      "source": [
        "### Importing the required libraries"
      ],
      "id": "L1Uk2KYb_3j4"
    },
    {
      "cell_type": "code",
      "metadata": {
        "colab": {
          "base_uri": "https://localhost:8080/"
        },
        "id": "FpD8u4LzA_78",
        "outputId": "5e5e16fd-8a79-4ace-b13f-d55c2bdeee03"
      },
      "source": [
        "!pip install scikit-plot"
      ],
      "id": "FpD8u4LzA_78",
      "execution_count": null,
      "outputs": [
        {
          "output_type": "stream",
          "text": [
            "Collecting scikit-plot\n",
            "  Downloading https://files.pythonhosted.org/packages/7c/47/32520e259340c140a4ad27c1b97050dd3254fdc517b1d59974d47037510e/scikit_plot-0.3.7-py3-none-any.whl\n",
            "Requirement already satisfied: scipy>=0.9 in /usr/local/lib/python3.7/dist-packages (from scikit-plot) (1.4.1)\n",
            "Requirement already satisfied: joblib>=0.10 in /usr/local/lib/python3.7/dist-packages (from scikit-plot) (1.0.1)\n",
            "Requirement already satisfied: matplotlib>=1.4.0 in /usr/local/lib/python3.7/dist-packages (from scikit-plot) (3.2.2)\n",
            "Requirement already satisfied: scikit-learn>=0.18 in /usr/local/lib/python3.7/dist-packages (from scikit-plot) (0.22.2.post1)\n",
            "Requirement already satisfied: numpy>=1.13.3 in /usr/local/lib/python3.7/dist-packages (from scipy>=0.9->scikit-plot) (1.19.5)\n",
            "Requirement already satisfied: pyparsing!=2.0.4,!=2.1.2,!=2.1.6,>=2.0.1 in /usr/local/lib/python3.7/dist-packages (from matplotlib>=1.4.0->scikit-plot) (2.4.7)\n",
            "Requirement already satisfied: kiwisolver>=1.0.1 in /usr/local/lib/python3.7/dist-packages (from matplotlib>=1.4.0->scikit-plot) (1.3.1)\n",
            "Requirement already satisfied: python-dateutil>=2.1 in /usr/local/lib/python3.7/dist-packages (from matplotlib>=1.4.0->scikit-plot) (2.8.1)\n",
            "Requirement already satisfied: cycler>=0.10 in /usr/local/lib/python3.7/dist-packages (from matplotlib>=1.4.0->scikit-plot) (0.10.0)\n",
            "Requirement already satisfied: six>=1.5 in /usr/local/lib/python3.7/dist-packages (from python-dateutil>=2.1->matplotlib>=1.4.0->scikit-plot) (1.15.0)\n",
            "Installing collected packages: scikit-plot\n",
            "Successfully installed scikit-plot-0.3.7\n"
          ],
          "name": "stdout"
        }
      ]
    },
    {
      "cell_type": "code",
      "metadata": {
        "id": "a0kLtvTh_3j5",
        "scrolled": true
      },
      "source": [
        "import pandas as pd\n",
        "import numpy as np\n",
        "import seaborn as sns\n",
        "import matplotlib.pyplot as plt\n",
        "\n",
        "from sklearn.model_selection import train_test_split\n",
        "from sklearn.metrics import confusion_matrix, roc_auc_score, roc_curve, classification_report,auc\n",
        "from sklearn.metrics import precision_recall_curve,roc_auc_score,roc_curve\n",
        "import scikitplot as skplt\n",
        "from scikitplot.metrics import plot_confusion_matrix, plot_roc\n",
        "from sklearn.preprocessing import label_binarize\n",
        "\n",
        "from keras.utils import to_categorical\n",
        "from keras.optimizers import Adam\n",
        "from keras.models import Sequential\n",
        "from keras.layers import Conv1D, MaxPool1D, Flatten, Dense, Dropout\n",
        "\n",
        "# Set seed\n",
        "from numpy.random import seed\n",
        "seed(1)\n",
        "import tensorflow as tf\n",
        "tf.random.set_seed(2)\n",
        "\n",
        "import random\n",
        "import warnings\n",
        "warnings.filterwarnings('ignore')"
      ],
      "id": "a0kLtvTh_3j5",
      "execution_count": null,
      "outputs": []
    },
    {
      "cell_type": "markdown",
      "metadata": {
        "id": "i0Cwhxqj_3j-"
      },
      "source": [
        "### Loading training data"
      ],
      "id": "i0Cwhxqj_3j-"
    },
    {
      "cell_type": "code",
      "metadata": {
        "id": "xxI-2q43ioqo"
      },
      "source": [
        "abnormal = pd.read_csv('ptbdb_abnormal.csv',header=None)\n",
        "normal = pd.read_csv('ptbdb_normal.csv',header=None)"
      ],
      "id": "xxI-2q43ioqo",
      "execution_count": null,
      "outputs": []
    },
    {
      "cell_type": "markdown",
      "metadata": {
        "id": "4rWbWRSBjvm2"
      },
      "source": [
        "## Merging two dataframes"
      ],
      "id": "4rWbWRSBjvm2"
    },
    {
      "cell_type": "code",
      "metadata": {
        "id": "iRO4Bu0ijdtW"
      },
      "source": [
        "dataset = abnormal.append([normal])"
      ],
      "id": "iRO4Bu0ijdtW",
      "execution_count": null,
      "outputs": []
    },
    {
      "cell_type": "code",
      "metadata": {
        "id": "global-infection",
        "outputId": "786fe246-474d-4128-9608-b8b4afdefc5a"
      },
      "source": [
        "dataset.shape"
      ],
      "id": "global-infection",
      "execution_count": null,
      "outputs": [
        {
          "output_type": "execute_result",
          "data": {
            "text/plain": [
              "(14552, 188)"
            ]
          },
          "metadata": {
            "tags": []
          },
          "execution_count": 6
        }
      ]
    },
    {
      "cell_type": "code",
      "metadata": {
        "id": "unable-coverage"
      },
      "source": [
        "# Changing target variable name for better readability\n",
        "dataset = dataset.rename(columns = {187 : 'label'})"
      ],
      "id": "unable-coverage",
      "execution_count": null,
      "outputs": []
    },
    {
      "cell_type": "code",
      "metadata": {
        "id": "modular-recognition"
      },
      "source": [
        "# Also changing the data type for label from float to integer\n",
        "dataset['label'] = dataset['label'].astype('uint8')"
      ],
      "id": "modular-recognition",
      "execution_count": null,
      "outputs": []
    },
    {
      "cell_type": "code",
      "metadata": {
        "id": "informal-beads"
      },
      "source": [
        "X = dataset.drop('label', axis=1)\n",
        "y = dataset['label']"
      ],
      "id": "informal-beads",
      "execution_count": null,
      "outputs": []
    },
    {
      "cell_type": "code",
      "metadata": {
        "id": "honest-cursor",
        "outputId": "34323820-1e2b-4924-94c6-9e2444f57980"
      },
      "source": [
        "# Split X into train (80%), val (10%), & test (10%) sets\n",
        "x_train, x_test, y_train, y_test = train_test_split(X, y, test_size = 0.2, random_state=42)\n",
        "x_test, x_val, y_test, y_val = train_test_split(x_test, y_test, test_size = 0.5, random_state=42)\n",
        "\n",
        "print(f'Train dataset : {x_train.shape} & {y_train.shape}')\n",
        "print(f'Test dataset : {x_test.shape} & {y_test.shape}')\n",
        "print(f'Validation dataset : {x_val.shape} & {y_val.shape}')"
      ],
      "id": "honest-cursor",
      "execution_count": null,
      "outputs": [
        {
          "output_type": "stream",
          "text": [
            "Train dataset : (11641, 187) & (11641,)\n",
            "Test dataset : (1455, 187) & (1455,)\n",
            "Validation dataset : (1456, 187) & (1456,)\n"
          ],
          "name": "stdout"
        }
      ]
    },
    {
      "cell_type": "markdown",
      "metadata": {
        "id": "xiDtfymW_3kH"
      },
      "source": [
        "The training set has 11641 rows & 187 columns. The target set for train is y_train that is either abnormal or normal – it is a binary classification task that tries to detect whether a signal is heatlhy or not:\n",
        "\n",
        "0 — Abnormal beats     \n",
        "1 — Normal beats    \n",
        "\n",
        "['A': 0, 'N': 1,]"
      ],
      "id": "xiDtfymW_3kH"
    },
    {
      "cell_type": "code",
      "metadata": {
        "id": "wMVW0r7k_3kU"
      },
      "source": [
        "class_names = ['A','N']"
      ],
      "id": "wMVW0r7k_3kU",
      "execution_count": null,
      "outputs": []
    },
    {
      "cell_type": "code",
      "metadata": {
        "id": "swiss-croatia"
      },
      "source": [
        "# Reset index\n",
        "x_train = x_train.reset_index(drop=True)\n",
        "x_val = x_val.reset_index(drop=True)\n",
        "x_test = x_test.reset_index(drop=True)\n",
        "\n",
        "y_train = y_train.reset_index(drop=True)\n",
        "y_val = y_val.reset_index(drop=True)\n",
        "y_test = y_test.reset_index(drop=True)"
      ],
      "id": "swiss-croatia",
      "execution_count": null,
      "outputs": []
    },
    {
      "cell_type": "code",
      "metadata": {
        "colab": {
          "base_uri": "https://localhost:8080/",
          "height": 244
        },
        "id": "DnAP_xg1_3kr",
        "outputId": "11de695b-34c4-40fe-832a-9f8ca333f668"
      },
      "source": [
        "x_train.head()"
      ],
      "id": "DnAP_xg1_3kr",
      "execution_count": null,
      "outputs": [
        {
          "output_type": "execute_result",
          "data": {
            "text/html": [
              "<div>\n",
              "<style scoped>\n",
              "    .dataframe tbody tr th:only-of-type {\n",
              "        vertical-align: middle;\n",
              "    }\n",
              "\n",
              "    .dataframe tbody tr th {\n",
              "        vertical-align: top;\n",
              "    }\n",
              "\n",
              "    .dataframe thead th {\n",
              "        text-align: right;\n",
              "    }\n",
              "</style>\n",
              "<table border=\"1\" class=\"dataframe\">\n",
              "  <thead>\n",
              "    <tr style=\"text-align: right;\">\n",
              "      <th></th>\n",
              "      <th>0</th>\n",
              "      <th>1</th>\n",
              "      <th>2</th>\n",
              "      <th>3</th>\n",
              "      <th>4</th>\n",
              "      <th>5</th>\n",
              "      <th>6</th>\n",
              "      <th>7</th>\n",
              "      <th>8</th>\n",
              "      <th>9</th>\n",
              "      <th>...</th>\n",
              "      <th>177</th>\n",
              "      <th>178</th>\n",
              "      <th>179</th>\n",
              "      <th>180</th>\n",
              "      <th>181</th>\n",
              "      <th>182</th>\n",
              "      <th>183</th>\n",
              "      <th>184</th>\n",
              "      <th>185</th>\n",
              "      <th>186</th>\n",
              "    </tr>\n",
              "  </thead>\n",
              "  <tbody>\n",
              "    <tr>\n",
              "      <th>0</th>\n",
              "      <td>0.944486</td>\n",
              "      <td>0.507877</td>\n",
              "      <td>0.195049</td>\n",
              "      <td>0.188297</td>\n",
              "      <td>0.120030</td>\n",
              "      <td>0.077269</td>\n",
              "      <td>0.053263</td>\n",
              "      <td>0.078770</td>\n",
              "      <td>0.042011</td>\n",
              "      <td>0.057764</td>\n",
              "      <td>...</td>\n",
              "      <td>0.0</td>\n",
              "      <td>0.0</td>\n",
              "      <td>0.0</td>\n",
              "      <td>0.0</td>\n",
              "      <td>0.0</td>\n",
              "      <td>0.0</td>\n",
              "      <td>0.0</td>\n",
              "      <td>0.0</td>\n",
              "      <td>0.0</td>\n",
              "      <td>0.0</td>\n",
              "    </tr>\n",
              "    <tr>\n",
              "      <th>1</th>\n",
              "      <td>0.947833</td>\n",
              "      <td>0.946228</td>\n",
              "      <td>1.000000</td>\n",
              "      <td>0.768860</td>\n",
              "      <td>0.473515</td>\n",
              "      <td>0.246388</td>\n",
              "      <td>0.194222</td>\n",
              "      <td>0.182986</td>\n",
              "      <td>0.176565</td>\n",
              "      <td>0.212681</td>\n",
              "      <td>...</td>\n",
              "      <td>0.0</td>\n",
              "      <td>0.0</td>\n",
              "      <td>0.0</td>\n",
              "      <td>0.0</td>\n",
              "      <td>0.0</td>\n",
              "      <td>0.0</td>\n",
              "      <td>0.0</td>\n",
              "      <td>0.0</td>\n",
              "      <td>0.0</td>\n",
              "      <td>0.0</td>\n",
              "    </tr>\n",
              "    <tr>\n",
              "      <th>2</th>\n",
              "      <td>1.000000</td>\n",
              "      <td>0.979106</td>\n",
              "      <td>0.715909</td>\n",
              "      <td>0.354839</td>\n",
              "      <td>0.129032</td>\n",
              "      <td>0.047287</td>\n",
              "      <td>0.104472</td>\n",
              "      <td>0.155059</td>\n",
              "      <td>0.152493</td>\n",
              "      <td>0.153592</td>\n",
              "      <td>...</td>\n",
              "      <td>0.0</td>\n",
              "      <td>0.0</td>\n",
              "      <td>0.0</td>\n",
              "      <td>0.0</td>\n",
              "      <td>0.0</td>\n",
              "      <td>0.0</td>\n",
              "      <td>0.0</td>\n",
              "      <td>0.0</td>\n",
              "      <td>0.0</td>\n",
              "      <td>0.0</td>\n",
              "    </tr>\n",
              "    <tr>\n",
              "      <th>3</th>\n",
              "      <td>1.000000</td>\n",
              "      <td>0.758195</td>\n",
              "      <td>0.645199</td>\n",
              "      <td>0.401080</td>\n",
              "      <td>0.150791</td>\n",
              "      <td>0.134593</td>\n",
              "      <td>0.060162</td>\n",
              "      <td>0.042422</td>\n",
              "      <td>0.037408</td>\n",
              "      <td>0.016583</td>\n",
              "      <td>...</td>\n",
              "      <td>0.0</td>\n",
              "      <td>0.0</td>\n",
              "      <td>0.0</td>\n",
              "      <td>0.0</td>\n",
              "      <td>0.0</td>\n",
              "      <td>0.0</td>\n",
              "      <td>0.0</td>\n",
              "      <td>0.0</td>\n",
              "      <td>0.0</td>\n",
              "      <td>0.0</td>\n",
              "    </tr>\n",
              "    <tr>\n",
              "      <th>4</th>\n",
              "      <td>0.933301</td>\n",
              "      <td>0.565007</td>\n",
              "      <td>0.066699</td>\n",
              "      <td>0.152247</td>\n",
              "      <td>0.029000</td>\n",
              "      <td>0.121798</td>\n",
              "      <td>0.322378</td>\n",
              "      <td>0.441759</td>\n",
              "      <td>0.468342</td>\n",
              "      <td>0.481392</td>\n",
              "      <td>...</td>\n",
              "      <td>0.0</td>\n",
              "      <td>0.0</td>\n",
              "      <td>0.0</td>\n",
              "      <td>0.0</td>\n",
              "      <td>0.0</td>\n",
              "      <td>0.0</td>\n",
              "      <td>0.0</td>\n",
              "      <td>0.0</td>\n",
              "      <td>0.0</td>\n",
              "      <td>0.0</td>\n",
              "    </tr>\n",
              "  </tbody>\n",
              "</table>\n",
              "<p>5 rows × 187 columns</p>\n",
              "</div>"
            ],
            "text/plain": [
              "        0         1         2         3         4         5         6    \\\n",
              "0  0.944486  0.507877  0.195049  0.188297  0.120030  0.077269  0.053263   \n",
              "1  0.947833  0.946228  1.000000  0.768860  0.473515  0.246388  0.194222   \n",
              "2  1.000000  0.979106  0.715909  0.354839  0.129032  0.047287  0.104472   \n",
              "3  1.000000  0.758195  0.645199  0.401080  0.150791  0.134593  0.060162   \n",
              "4  0.933301  0.565007  0.066699  0.152247  0.029000  0.121798  0.322378   \n",
              "\n",
              "        7         8         9    ...  177  178  179  180  181  182  183  184  \\\n",
              "0  0.078770  0.042011  0.057764  ...  0.0  0.0  0.0  0.0  0.0  0.0  0.0  0.0   \n",
              "1  0.182986  0.176565  0.212681  ...  0.0  0.0  0.0  0.0  0.0  0.0  0.0  0.0   \n",
              "2  0.155059  0.152493  0.153592  ...  0.0  0.0  0.0  0.0  0.0  0.0  0.0  0.0   \n",
              "3  0.042422  0.037408  0.016583  ...  0.0  0.0  0.0  0.0  0.0  0.0  0.0  0.0   \n",
              "4  0.441759  0.468342  0.481392  ...  0.0  0.0  0.0  0.0  0.0  0.0  0.0  0.0   \n",
              "\n",
              "   185  186  \n",
              "0  0.0  0.0  \n",
              "1  0.0  0.0  \n",
              "2  0.0  0.0  \n",
              "3  0.0  0.0  \n",
              "4  0.0  0.0  \n",
              "\n",
              "[5 rows x 187 columns]"
            ]
          },
          "metadata": {
            "tags": []
          },
          "execution_count": 13
        }
      ]
    },
    {
      "cell_type": "code",
      "metadata": {
        "colab": {
          "base_uri": "https://localhost:8080/",
          "height": 244
        },
        "id": "2AisZ4Cd_3ks",
        "outputId": "7739e770-8c40-4aee-e5be-9622d8698500"
      },
      "source": [
        "y_train"
      ],
      "id": "2AisZ4Cd_3ks",
      "execution_count": null,
      "outputs": [
        {
          "output_type": "execute_result",
          "data": {
            "text/plain": [
              "0        1\n",
              "1        1\n",
              "2        0\n",
              "3        1\n",
              "4        0\n",
              "        ..\n",
              "11636    1\n",
              "11637    0\n",
              "11638    1\n",
              "11639    1\n",
              "11640    1\n",
              "Name: label, Length: 11641, dtype: uint8"
            ]
          },
          "metadata": {
            "tags": []
          },
          "execution_count": 14
        }
      ]
    },
    {
      "cell_type": "code",
      "metadata": {
        "id": "blank-worcester",
        "outputId": "317650bd-f7d2-4530-a3fe-7d088b72e050"
      },
      "source": [
        "x_test.head()"
      ],
      "id": "blank-worcester",
      "execution_count": null,
      "outputs": [
        {
          "output_type": "execute_result",
          "data": {
            "text/html": [
              "<div>\n",
              "<style scoped>\n",
              "    .dataframe tbody tr th:only-of-type {\n",
              "        vertical-align: middle;\n",
              "    }\n",
              "\n",
              "    .dataframe tbody tr th {\n",
              "        vertical-align: top;\n",
              "    }\n",
              "\n",
              "    .dataframe thead th {\n",
              "        text-align: right;\n",
              "    }\n",
              "</style>\n",
              "<table border=\"1\" class=\"dataframe\">\n",
              "  <thead>\n",
              "    <tr style=\"text-align: right;\">\n",
              "      <th></th>\n",
              "      <th>0</th>\n",
              "      <th>1</th>\n",
              "      <th>2</th>\n",
              "      <th>3</th>\n",
              "      <th>4</th>\n",
              "      <th>5</th>\n",
              "      <th>6</th>\n",
              "      <th>7</th>\n",
              "      <th>8</th>\n",
              "      <th>9</th>\n",
              "      <th>...</th>\n",
              "      <th>177</th>\n",
              "      <th>178</th>\n",
              "      <th>179</th>\n",
              "      <th>180</th>\n",
              "      <th>181</th>\n",
              "      <th>182</th>\n",
              "      <th>183</th>\n",
              "      <th>184</th>\n",
              "      <th>185</th>\n",
              "      <th>186</th>\n",
              "    </tr>\n",
              "  </thead>\n",
              "  <tbody>\n",
              "    <tr>\n",
              "      <th>0</th>\n",
              "      <td>0.940602</td>\n",
              "      <td>0.396266</td>\n",
              "      <td>0.079762</td>\n",
              "      <td>0.000000</td>\n",
              "      <td>0.124735</td>\n",
              "      <td>0.211286</td>\n",
              "      <td>0.246924</td>\n",
              "      <td>0.264319</td>\n",
              "      <td>0.265168</td>\n",
              "      <td>0.268986</td>\n",
              "      <td>...</td>\n",
              "      <td>0.0</td>\n",
              "      <td>0.0</td>\n",
              "      <td>0.0</td>\n",
              "      <td>0.0</td>\n",
              "      <td>0.0</td>\n",
              "      <td>0.0</td>\n",
              "      <td>0.0</td>\n",
              "      <td>0.0</td>\n",
              "      <td>0.0</td>\n",
              "      <td>0.0</td>\n",
              "    </tr>\n",
              "    <tr>\n",
              "      <th>1</th>\n",
              "      <td>1.000000</td>\n",
              "      <td>0.455185</td>\n",
              "      <td>0.416520</td>\n",
              "      <td>0.172818</td>\n",
              "      <td>0.148799</td>\n",
              "      <td>0.159344</td>\n",
              "      <td>0.164030</td>\n",
              "      <td>0.151142</td>\n",
              "      <td>0.159930</td>\n",
              "      <td>0.157586</td>\n",
              "      <td>...</td>\n",
              "      <td>0.0</td>\n",
              "      <td>0.0</td>\n",
              "      <td>0.0</td>\n",
              "      <td>0.0</td>\n",
              "      <td>0.0</td>\n",
              "      <td>0.0</td>\n",
              "      <td>0.0</td>\n",
              "      <td>0.0</td>\n",
              "      <td>0.0</td>\n",
              "      <td>0.0</td>\n",
              "    </tr>\n",
              "    <tr>\n",
              "      <th>2</th>\n",
              "      <td>0.976690</td>\n",
              "      <td>0.766900</td>\n",
              "      <td>0.476690</td>\n",
              "      <td>0.000000</td>\n",
              "      <td>0.095571</td>\n",
              "      <td>0.179487</td>\n",
              "      <td>0.223776</td>\n",
              "      <td>0.261072</td>\n",
              "      <td>0.272727</td>\n",
              "      <td>0.304196</td>\n",
              "      <td>...</td>\n",
              "      <td>0.0</td>\n",
              "      <td>0.0</td>\n",
              "      <td>0.0</td>\n",
              "      <td>0.0</td>\n",
              "      <td>0.0</td>\n",
              "      <td>0.0</td>\n",
              "      <td>0.0</td>\n",
              "      <td>0.0</td>\n",
              "      <td>0.0</td>\n",
              "      <td>0.0</td>\n",
              "    </tr>\n",
              "    <tr>\n",
              "      <th>3</th>\n",
              "      <td>0.939639</td>\n",
              "      <td>0.438706</td>\n",
              "      <td>0.113255</td>\n",
              "      <td>0.019291</td>\n",
              "      <td>0.000000</td>\n",
              "      <td>0.048538</td>\n",
              "      <td>0.122589</td>\n",
              "      <td>0.161792</td>\n",
              "      <td>0.163659</td>\n",
              "      <td>0.179216</td>\n",
              "      <td>...</td>\n",
              "      <td>0.0</td>\n",
              "      <td>0.0</td>\n",
              "      <td>0.0</td>\n",
              "      <td>0.0</td>\n",
              "      <td>0.0</td>\n",
              "      <td>0.0</td>\n",
              "      <td>0.0</td>\n",
              "      <td>0.0</td>\n",
              "      <td>0.0</td>\n",
              "      <td>0.0</td>\n",
              "    </tr>\n",
              "    <tr>\n",
              "      <th>4</th>\n",
              "      <td>0.966887</td>\n",
              "      <td>0.288447</td>\n",
              "      <td>0.245033</td>\n",
              "      <td>0.054452</td>\n",
              "      <td>0.194996</td>\n",
              "      <td>0.302428</td>\n",
              "      <td>0.289183</td>\n",
              "      <td>0.345843</td>\n",
              "      <td>0.289919</td>\n",
              "      <td>0.334805</td>\n",
              "      <td>...</td>\n",
              "      <td>0.0</td>\n",
              "      <td>0.0</td>\n",
              "      <td>0.0</td>\n",
              "      <td>0.0</td>\n",
              "      <td>0.0</td>\n",
              "      <td>0.0</td>\n",
              "      <td>0.0</td>\n",
              "      <td>0.0</td>\n",
              "      <td>0.0</td>\n",
              "      <td>0.0</td>\n",
              "    </tr>\n",
              "  </tbody>\n",
              "</table>\n",
              "<p>5 rows × 187 columns</p>\n",
              "</div>"
            ],
            "text/plain": [
              "        0         1         2         3         4         5         6    \\\n",
              "0  0.940602  0.396266  0.079762  0.000000  0.124735  0.211286  0.246924   \n",
              "1  1.000000  0.455185  0.416520  0.172818  0.148799  0.159344  0.164030   \n",
              "2  0.976690  0.766900  0.476690  0.000000  0.095571  0.179487  0.223776   \n",
              "3  0.939639  0.438706  0.113255  0.019291  0.000000  0.048538  0.122589   \n",
              "4  0.966887  0.288447  0.245033  0.054452  0.194996  0.302428  0.289183   \n",
              "\n",
              "        7         8         9    ...  177  178  179  180  181  182  183  184  \\\n",
              "0  0.264319  0.265168  0.268986  ...  0.0  0.0  0.0  0.0  0.0  0.0  0.0  0.0   \n",
              "1  0.151142  0.159930  0.157586  ...  0.0  0.0  0.0  0.0  0.0  0.0  0.0  0.0   \n",
              "2  0.261072  0.272727  0.304196  ...  0.0  0.0  0.0  0.0  0.0  0.0  0.0  0.0   \n",
              "3  0.161792  0.163659  0.179216  ...  0.0  0.0  0.0  0.0  0.0  0.0  0.0  0.0   \n",
              "4  0.345843  0.289919  0.334805  ...  0.0  0.0  0.0  0.0  0.0  0.0  0.0  0.0   \n",
              "\n",
              "   185  186  \n",
              "0  0.0  0.0  \n",
              "1  0.0  0.0  \n",
              "2  0.0  0.0  \n",
              "3  0.0  0.0  \n",
              "4  0.0  0.0  \n",
              "\n",
              "[5 rows x 187 columns]"
            ]
          },
          "metadata": {
            "tags": []
          },
          "execution_count": 15
        }
      ]
    },
    {
      "cell_type": "code",
      "metadata": {
        "id": "expanded-africa",
        "outputId": "47022a4a-f9a6-4e4d-fe55-fcd269f6b1b2"
      },
      "source": [
        "y_test"
      ],
      "id": "expanded-africa",
      "execution_count": null,
      "outputs": [
        {
          "output_type": "execute_result",
          "data": {
            "text/plain": [
              "0       0\n",
              "1       1\n",
              "2       1\n",
              "3       1\n",
              "4       1\n",
              "       ..\n",
              "1450    1\n",
              "1451    1\n",
              "1452    0\n",
              "1453    0\n",
              "1454    1\n",
              "Name: label, Length: 1455, dtype: uint8"
            ]
          },
          "metadata": {
            "tags": []
          },
          "execution_count": 16
        }
      ]
    },
    {
      "cell_type": "code",
      "metadata": {
        "id": "supposed-helicopter",
        "outputId": "facf566e-e35a-4d81-ff95-2655516063d5"
      },
      "source": [
        "x_val.head()"
      ],
      "id": "supposed-helicopter",
      "execution_count": null,
      "outputs": [
        {
          "output_type": "execute_result",
          "data": {
            "text/html": [
              "<div>\n",
              "<style scoped>\n",
              "    .dataframe tbody tr th:only-of-type {\n",
              "        vertical-align: middle;\n",
              "    }\n",
              "\n",
              "    .dataframe tbody tr th {\n",
              "        vertical-align: top;\n",
              "    }\n",
              "\n",
              "    .dataframe thead th {\n",
              "        text-align: right;\n",
              "    }\n",
              "</style>\n",
              "<table border=\"1\" class=\"dataframe\">\n",
              "  <thead>\n",
              "    <tr style=\"text-align: right;\">\n",
              "      <th></th>\n",
              "      <th>0</th>\n",
              "      <th>1</th>\n",
              "      <th>2</th>\n",
              "      <th>3</th>\n",
              "      <th>4</th>\n",
              "      <th>5</th>\n",
              "      <th>6</th>\n",
              "      <th>7</th>\n",
              "      <th>8</th>\n",
              "      <th>9</th>\n",
              "      <th>...</th>\n",
              "      <th>177</th>\n",
              "      <th>178</th>\n",
              "      <th>179</th>\n",
              "      <th>180</th>\n",
              "      <th>181</th>\n",
              "      <th>182</th>\n",
              "      <th>183</th>\n",
              "      <th>184</th>\n",
              "      <th>185</th>\n",
              "      <th>186</th>\n",
              "    </tr>\n",
              "  </thead>\n",
              "  <tbody>\n",
              "    <tr>\n",
              "      <th>0</th>\n",
              "      <td>0.975768</td>\n",
              "      <td>0.810284</td>\n",
              "      <td>0.735816</td>\n",
              "      <td>0.487589</td>\n",
              "      <td>0.176123</td>\n",
              "      <td>0.087470</td>\n",
              "      <td>0.017139</td>\n",
              "      <td>0.002955</td>\n",
              "      <td>0.000000</td>\n",
              "      <td>0.091608</td>\n",
              "      <td>...</td>\n",
              "      <td>0.0</td>\n",
              "      <td>0.0</td>\n",
              "      <td>0.0</td>\n",
              "      <td>0.0</td>\n",
              "      <td>0.0</td>\n",
              "      <td>0.0</td>\n",
              "      <td>0.0</td>\n",
              "      <td>0.0</td>\n",
              "      <td>0.0</td>\n",
              "      <td>0.0</td>\n",
              "    </tr>\n",
              "    <tr>\n",
              "      <th>1</th>\n",
              "      <td>0.984338</td>\n",
              "      <td>1.000000</td>\n",
              "      <td>0.981989</td>\n",
              "      <td>0.931872</td>\n",
              "      <td>0.888019</td>\n",
              "      <td>0.841034</td>\n",
              "      <td>0.767424</td>\n",
              "      <td>0.724354</td>\n",
              "      <td>0.665623</td>\n",
              "      <td>0.671887</td>\n",
              "      <td>...</td>\n",
              "      <td>0.0</td>\n",
              "      <td>0.0</td>\n",
              "      <td>0.0</td>\n",
              "      <td>0.0</td>\n",
              "      <td>0.0</td>\n",
              "      <td>0.0</td>\n",
              "      <td>0.0</td>\n",
              "      <td>0.0</td>\n",
              "      <td>0.0</td>\n",
              "      <td>0.0</td>\n",
              "    </tr>\n",
              "    <tr>\n",
              "      <th>2</th>\n",
              "      <td>1.000000</td>\n",
              "      <td>0.932685</td>\n",
              "      <td>0.578834</td>\n",
              "      <td>0.298056</td>\n",
              "      <td>0.089273</td>\n",
              "      <td>0.055436</td>\n",
              "      <td>0.100792</td>\n",
              "      <td>0.140029</td>\n",
              "      <td>0.137509</td>\n",
              "      <td>0.133549</td>\n",
              "      <td>...</td>\n",
              "      <td>0.0</td>\n",
              "      <td>0.0</td>\n",
              "      <td>0.0</td>\n",
              "      <td>0.0</td>\n",
              "      <td>0.0</td>\n",
              "      <td>0.0</td>\n",
              "      <td>0.0</td>\n",
              "      <td>0.0</td>\n",
              "      <td>0.0</td>\n",
              "      <td>0.0</td>\n",
              "    </tr>\n",
              "    <tr>\n",
              "      <th>3</th>\n",
              "      <td>1.000000</td>\n",
              "      <td>0.520283</td>\n",
              "      <td>0.193174</td>\n",
              "      <td>0.000000</td>\n",
              "      <td>0.184804</td>\n",
              "      <td>0.197038</td>\n",
              "      <td>0.097875</td>\n",
              "      <td>0.215712</td>\n",
              "      <td>0.088860</td>\n",
              "      <td>0.155827</td>\n",
              "      <td>...</td>\n",
              "      <td>0.0</td>\n",
              "      <td>0.0</td>\n",
              "      <td>0.0</td>\n",
              "      <td>0.0</td>\n",
              "      <td>0.0</td>\n",
              "      <td>0.0</td>\n",
              "      <td>0.0</td>\n",
              "      <td>0.0</td>\n",
              "      <td>0.0</td>\n",
              "      <td>0.0</td>\n",
              "    </tr>\n",
              "    <tr>\n",
              "      <th>4</th>\n",
              "      <td>0.955750</td>\n",
              "      <td>0.737633</td>\n",
              "      <td>0.449802</td>\n",
              "      <td>0.234607</td>\n",
              "      <td>0.140680</td>\n",
              "      <td>0.168441</td>\n",
              "      <td>0.168023</td>\n",
              "      <td>0.158213</td>\n",
              "      <td>0.157796</td>\n",
              "      <td>0.156961</td>\n",
              "      <td>...</td>\n",
              "      <td>0.0</td>\n",
              "      <td>0.0</td>\n",
              "      <td>0.0</td>\n",
              "      <td>0.0</td>\n",
              "      <td>0.0</td>\n",
              "      <td>0.0</td>\n",
              "      <td>0.0</td>\n",
              "      <td>0.0</td>\n",
              "      <td>0.0</td>\n",
              "      <td>0.0</td>\n",
              "    </tr>\n",
              "  </tbody>\n",
              "</table>\n",
              "<p>5 rows × 187 columns</p>\n",
              "</div>"
            ],
            "text/plain": [
              "        0         1         2         3         4         5         6    \\\n",
              "0  0.975768  0.810284  0.735816  0.487589  0.176123  0.087470  0.017139   \n",
              "1  0.984338  1.000000  0.981989  0.931872  0.888019  0.841034  0.767424   \n",
              "2  1.000000  0.932685  0.578834  0.298056  0.089273  0.055436  0.100792   \n",
              "3  1.000000  0.520283  0.193174  0.000000  0.184804  0.197038  0.097875   \n",
              "4  0.955750  0.737633  0.449802  0.234607  0.140680  0.168441  0.168023   \n",
              "\n",
              "        7         8         9    ...  177  178  179  180  181  182  183  184  \\\n",
              "0  0.002955  0.000000  0.091608  ...  0.0  0.0  0.0  0.0  0.0  0.0  0.0  0.0   \n",
              "1  0.724354  0.665623  0.671887  ...  0.0  0.0  0.0  0.0  0.0  0.0  0.0  0.0   \n",
              "2  0.140029  0.137509  0.133549  ...  0.0  0.0  0.0  0.0  0.0  0.0  0.0  0.0   \n",
              "3  0.215712  0.088860  0.155827  ...  0.0  0.0  0.0  0.0  0.0  0.0  0.0  0.0   \n",
              "4  0.158213  0.157796  0.156961  ...  0.0  0.0  0.0  0.0  0.0  0.0  0.0  0.0   \n",
              "\n",
              "   185  186  \n",
              "0  0.0  0.0  \n",
              "1  0.0  0.0  \n",
              "2  0.0  0.0  \n",
              "3  0.0  0.0  \n",
              "4  0.0  0.0  \n",
              "\n",
              "[5 rows x 187 columns]"
            ]
          },
          "metadata": {
            "tags": []
          },
          "execution_count": 17
        }
      ]
    },
    {
      "cell_type": "code",
      "metadata": {
        "id": "progressive-nothing",
        "outputId": "e73e09c2-76f2-41f5-dcd3-d126381aafea"
      },
      "source": [
        "y_val"
      ],
      "id": "progressive-nothing",
      "execution_count": null,
      "outputs": [
        {
          "output_type": "execute_result",
          "data": {
            "text/plain": [
              "0       1\n",
              "1       1\n",
              "2       0\n",
              "3       1\n",
              "4       0\n",
              "       ..\n",
              "1451    0\n",
              "1452    1\n",
              "1453    1\n",
              "1454    1\n",
              "1455    1\n",
              "Name: label, Length: 1456, dtype: uint8"
            ]
          },
          "metadata": {
            "tags": []
          },
          "execution_count": 18
        }
      ]
    },
    {
      "cell_type": "markdown",
      "metadata": {
        "id": "VJT5HePU_3kt"
      },
      "source": [
        "#### Now seeing how our target variables are distributed in the training data."
      ],
      "id": "VJT5HePU_3kt"
    },
    {
      "cell_type": "code",
      "metadata": {
        "colab": {
          "base_uri": "https://localhost:8080/"
        },
        "id": "KJ7fV_0q_3kv",
        "scrolled": true,
        "outputId": "2d12509a-0130-46fd-c344-dd970b01f87b"
      },
      "source": [
        "#class count\n",
        "df_class=y_train.value_counts()\n",
        "print('Count of classes :\\n',df_class)\n",
        "#Percentages per class count\n",
        "per_class=y_train.value_counts()/len(y_train)*100\n",
        "print('percentage of count of classes :\\n',per_class)"
      ],
      "id": "KJ7fV_0q_3kv",
      "execution_count": null,
      "outputs": [
        {
          "output_type": "stream",
          "text": [
            "Count of classes :\n",
            " 1    8357\n",
            "0    3284\n",
            "Name: label, dtype: int64\n",
            "percentage of count of classes :\n",
            " 1    71.789365\n",
            "0    28.210635\n",
            "Name: label, dtype: float64\n"
          ],
          "name": "stdout"
        }
      ]
    },
    {
      "cell_type": "code",
      "metadata": {
        "colab": {
          "base_uri": "https://localhost:8080/",
          "height": 312
        },
        "id": "1xh4T1vq_3kw",
        "outputId": "98973cc8-3428-4039-fb22-0d20171c7a7e"
      },
      "source": [
        "#Countplot\n",
        "plt.figure(figsize=(8,4))\n",
        "sns.countplot(y_train, palette='Set3',edgecolor=sns.color_palette(\"dark\", 15))\n",
        "plt.title('Distribution of target classes before sampling')\n",
        "plt.xlabel('label')\n",
        "plt.ylabel('Index')"
      ],
      "id": "1xh4T1vq_3kw",
      "execution_count": null,
      "outputs": [
        {
          "output_type": "execute_result",
          "data": {
            "text/plain": [
              "Text(0, 0.5, 'Index')"
            ]
          },
          "metadata": {
            "tags": []
          },
          "execution_count": 20
        },
        {
          "output_type": "display_data",
          "data": {
            "image/png": "[encoded data removed]",
            "text/plain": [
              "<Figure size 576x288 with 1 Axes>"
            ]
          },
          "metadata": {
            "tags": [],
            "needs_background": "light"
          }
        }
      ]
    },
    {
      "cell_type": "markdown",
      "metadata": {
        "id": "kUQAK3NI_3k0"
      },
      "source": [
        "It seems the classes in target variable are highly imbalanced. We need to balance the classes. We are using [SMOTE](https://imbalanced-learn.org/stable/references/generated/imblearn.over_sampling.SMOTE.html)."
      ],
      "id": "kUQAK3NI_3k0"
    },
    {
      "cell_type": "markdown",
      "metadata": {
        "id": "LaN37K5f_3k2"
      },
      "source": [
        "### **Handling imbalanced data**\n",
        "Since our data is imbalanced, we need to balance the data in order to get more accurate results from the ML model. To balance the data, I have chosen SMOTE (Synthetic Minority OverSampling Technique). SMOTE is an oversampling technique where the synthetic samples are generated for the minority class. This algorithm helps to overcome the overfitting problem posed by random oversampling. It focuses on the feature space to generate new instances with the help of interpolation between the positive instances that lie together.\n",
        "\n",
        "**This balancing should be carried out on training data only if the classes are imbalanced.**\n",
        "\n",
        "Additional details on SMOTE can be found [here](https://arxiv.org/abs/1106.1813/)"
      ],
      "id": "LaN37K5f_3k2"
    },
    {
      "cell_type": "code",
      "metadata": {
        "colab": {
          "base_uri": "https://localhost:8080/"
        },
        "id": "1fqtQzgE_3k7",
        "outputId": "28fc629c-f8cd-4466-fb28-c3be803eafa9"
      },
      "source": [
        "from imblearn.over_sampling import SMOTE\n",
        "from collections import Counter\n",
        "\n",
        "counter= Counter(y_train)\n",
        "print(f'Before Sampling', counter)\n",
        "# Oversampling the training data using SMOTE\n",
        "smt=SMOTE()\n",
        "X_train_sm,y_train_sm = smt.fit_resample(x_train,y_train)\n",
        "counter= Counter(y_train_sm)\n",
        "print('After Sampling', counter)"
      ],
      "id": "1fqtQzgE_3k7",
      "execution_count": null,
      "outputs": [
        {
          "output_type": "stream",
          "text": [
            "Before Sampling Counter({1: 8357, 0: 3284})\n",
            "After Sampling Counter({1: 8357, 0: 8357})\n"
          ],
          "name": "stdout"
        }
      ]
    },
    {
      "cell_type": "markdown",
      "metadata": {
        "id": "rpAWkKcn_3lG"
      },
      "source": [
        "#### Distribution of target classes after SMOTE sampling"
      ],
      "id": "rpAWkKcn_3lG"
    },
    {
      "cell_type": "code",
      "metadata": {
        "colab": {
          "base_uri": "https://localhost:8080/",
          "height": 312
        },
        "id": "8IQtOQBh_3lJ",
        "outputId": "68a62c86-dc6d-46ab-b251-f2dd9463bbe6"
      },
      "source": [
        "#Countplot\n",
        "plt.figure(figsize=(8,4))\n",
        "sns.countplot(y_train_sm,palette='Set3',edgecolor=sns.color_palette(\"dark\", 15))\n",
        "plt.title('Distribution of target classes after SMOTE sampling')\n",
        "plt.xlabel('label')\n",
        "plt.ylabel('Index')"
      ],
      "id": "8IQtOQBh_3lJ",
      "execution_count": null,
      "outputs": [
        {
          "output_type": "execute_result",
          "data": {
            "text/plain": [
              "Text(0, 0.5, 'Index')"
            ]
          },
          "metadata": {
            "tags": []
          },
          "execution_count": 22
        },
        {
          "output_type": "display_data",
          "data": {
            "image/png": "[encoded data removed]",
            "text/plain": [
              "<Figure size 576x288 with 1 Axes>"
            ]
          },
          "metadata": {
            "tags": [],
            "needs_background": "light"
          }
        }
      ]
    },
    {
      "cell_type": "markdown",
      "metadata": {
        "id": "3Pi0LVYe_3lM"
      },
      "source": [
        "**A visual peek into different classes of heartbeats**"
      ],
      "id": "3Pi0LVYe_3lM"
    },
    {
      "cell_type": "code",
      "metadata": {
        "id": "ef1Q0MHD_3lM"
      },
      "source": [
        "# Defining a function to plot class distribution\n",
        "def class_distribution(df, class_label, index):\n",
        "    # Create a dataframe for class_label\n",
        "    df = df[df.label== class_label]\n",
        "    # Reset index\n",
        "    df = df.reset_index(drop=True)\n",
        "    # Drop label column from df\n",
        "    df_new = df.drop('label',axis=1)\n",
        "    # Considering\n",
        "    df_array = df_new.loc[index,:]\n",
        "    return df_array"
      ],
      "id": "ef1Q0MHD_3lM",
      "execution_count": null,
      "outputs": []
    },
    {
      "cell_type": "code",
      "metadata": {
        "colab": {
          "base_uri": "https://localhost:8080/",
          "height": 421
        },
        "id": "2ocDHoY6_3lN",
        "outputId": "63747fe7-915b-4709-e44d-77749c0a0f62"
      },
      "source": [
        "# 0 — Abnormal beats\n",
        "plt.figure(figsize = (12,6))\n",
        "neb_df = class_distribution(dataset, 0 , 5)   # Signal corressponding to the index 5 is considered for all plots\n",
        "plt.plot(neb_df.index, neb_df.values)\n",
        "plt.title('Abnormal beats')\n",
        "plt.xlabel('Index')\n",
        "plt.ylabel('Abnormal beats')"
      ],
      "id": "2ocDHoY6_3lN",
      "execution_count": null,
      "outputs": [
        {
          "output_type": "execute_result",
          "data": {
            "text/plain": [
              "Text(0, 0.5, 'Abnormal beats')"
            ]
          },
          "metadata": {
            "tags": []
          },
          "execution_count": 24
        },
        {
          "output_type": "display_data",
          "data": {
            "image/png": "[encoded data removed]",
            "text/plain": [
              "<Figure size 864x432 with 1 Axes>"
            ]
          },
          "metadata": {
            "tags": [],
            "needs_background": "light"
          }
        }
      ]
    },
    {
      "cell_type": "code",
      "metadata": {
        "colab": {
          "base_uri": "https://localhost:8080/",
          "height": 421
        },
        "id": "uZ_HYNkF_3lT",
        "outputId": "be88b533-133e-49d5-991a-8f30c4b728a8"
      },
      "source": [
        "# 1 — Normal beats\n",
        "plt.figure(figsize = (12,6))\n",
        "seb_df = class_distribution(dataset, 1 , 5)   # Signal corressponding to the index 5 is considered for all plots\n",
        "plt.plot(seb_df.index, seb_df.values)\n",
        "plt.title('Normal beats')\n",
        "plt.xlabel('Index')\n",
        "plt.ylabel('Normal beats')"
      ],
      "id": "uZ_HYNkF_3lT",
      "execution_count": null,
      "outputs": [
        {
          "output_type": "execute_result",
          "data": {
            "text/plain": [
              "Text(0, 0.5, 'Normal beats')"
            ]
          },
          "metadata": {
            "tags": []
          },
          "execution_count": 25
        },
        {
          "output_type": "display_data",
          "data": {
            "image/png": "[encoded data removed]",
            "text/plain": [
              "<Figure size 864x432 with 1 Axes>"
            ]
          },
          "metadata": {
            "tags": [],
            "needs_background": "light"
          }
        }
      ]
    },
    {
      "cell_type": "markdown",
      "metadata": {
        "id": "12hkWLQJ_3li"
      },
      "source": [
        "#### Preprocessing"
      ],
      "id": "12hkWLQJ_3li"
    },
    {
      "cell_type": "markdown",
      "metadata": {
        "id": "h0gFPCRO_3li"
      },
      "source": [
        "**Adding noise**   \n",
        "Noise is added to the data to mimic the external random processes that can interfere in the data recording process. Additive white Gaussian noise (AWGN) model is  used for this task."
      ],
      "id": "h0gFPCRO_3li"
    },
    {
      "cell_type": "code",
      "metadata": {
        "id": "PjevYYEHF6_m"
      },
      "source": [
        "import numpy as np\n",
        "pure = np.linspace(-1, 1, 187)"
      ],
      "id": "PjevYYEHF6_m",
      "execution_count": null,
      "outputs": []
    },
    {
      "cell_type": "code",
      "metadata": {
        "colab": {
          "base_uri": "https://localhost:8080/"
        },
        "id": "sapyAJ56F9EP",
        "outputId": "9639af0e-a108-4431-fa88-f7f3c25ad318"
      },
      "source": [
        "pure"
      ],
      "id": "sapyAJ56F9EP",
      "execution_count": null,
      "outputs": [
        {
          "output_type": "execute_result",
          "data": {
            "text/plain": [
              "array([-1.        , -0.98924731, -0.97849462, -0.96774194, -0.95698925,\n",
              "       -0.94623656, -0.93548387, -0.92473118, -0.91397849, -0.90322581,\n",
              "       -0.89247312, -0.88172043, -0.87096774, -0.86021505, -0.84946237,\n",
              "       -0.83870968, -0.82795699, -0.8172043 , -0.80645161, -0.79569892,\n",
              "       -0.78494624, -0.77419355, -0.76344086, -0.75268817, -0.74193548,\n",
              "       -0.7311828 , -0.72043011, -0.70967742, -0.69892473, -0.68817204,\n",
              "       -0.67741935, -0.66666667, -0.65591398, -0.64516129, -0.6344086 ,\n",
              "       -0.62365591, -0.61290323, -0.60215054, -0.59139785, -0.58064516,\n",
              "       -0.56989247, -0.55913978, -0.5483871 , -0.53763441, -0.52688172,\n",
              "       -0.51612903, -0.50537634, -0.49462366, -0.48387097, -0.47311828,\n",
              "       -0.46236559, -0.4516129 , -0.44086022, -0.43010753, -0.41935484,\n",
              "       -0.40860215, -0.39784946, -0.38709677, -0.37634409, -0.3655914 ,\n",
              "       -0.35483871, -0.34408602, -0.33333333, -0.32258065, -0.31182796,\n",
              "       -0.30107527, -0.29032258, -0.27956989, -0.2688172 , -0.25806452,\n",
              "       -0.24731183, -0.23655914, -0.22580645, -0.21505376, -0.20430108,\n",
              "       -0.19354839, -0.1827957 , -0.17204301, -0.16129032, -0.15053763,\n",
              "       -0.13978495, -0.12903226, -0.11827957, -0.10752688, -0.09677419,\n",
              "       -0.08602151, -0.07526882, -0.06451613, -0.05376344, -0.04301075,\n",
              "       -0.03225806, -0.02150538, -0.01075269,  0.        ,  0.01075269,\n",
              "        0.02150538,  0.03225806,  0.04301075,  0.05376344,  0.06451613,\n",
              "        0.07526882,  0.08602151,  0.09677419,  0.10752688,  0.11827957,\n",
              "        0.12903226,  0.13978495,  0.15053763,  0.16129032,  0.17204301,\n",
              "        0.1827957 ,  0.19354839,  0.20430108,  0.21505376,  0.22580645,\n",
              "        0.23655914,  0.24731183,  0.25806452,  0.2688172 ,  0.27956989,\n",
              "        0.29032258,  0.30107527,  0.31182796,  0.32258065,  0.33333333,\n",
              "        0.34408602,  0.35483871,  0.3655914 ,  0.37634409,  0.38709677,\n",
              "        0.39784946,  0.40860215,  0.41935484,  0.43010753,  0.44086022,\n",
              "        0.4516129 ,  0.46236559,  0.47311828,  0.48387097,  0.49462366,\n",
              "        0.50537634,  0.51612903,  0.52688172,  0.53763441,  0.5483871 ,\n",
              "        0.55913978,  0.56989247,  0.58064516,  0.59139785,  0.60215054,\n",
              "        0.61290323,  0.62365591,  0.6344086 ,  0.64516129,  0.65591398,\n",
              "        0.66666667,  0.67741935,  0.68817204,  0.69892473,  0.70967742,\n",
              "        0.72043011,  0.7311828 ,  0.74193548,  0.75268817,  0.76344086,\n",
              "        0.77419355,  0.78494624,  0.79569892,  0.80645161,  0.8172043 ,\n",
              "        0.82795699,  0.83870968,  0.84946237,  0.86021505,  0.87096774,\n",
              "        0.88172043,  0.89247312,  0.90322581,  0.91397849,  0.92473118,\n",
              "        0.93548387,  0.94623656,  0.95698925,  0.96774194,  0.97849462,\n",
              "        0.98924731,  1.        ])"
            ]
          },
          "metadata": {
            "tags": []
          },
          "execution_count": 27
        }
      ]
    },
    {
      "cell_type": "code",
      "metadata": {
        "id": "Oj403smAF59A"
      },
      "source": [
        "\n",
        "noise = np.random.normal(0, 1, 187)\n",
        "signal = pure + noise"
      ],
      "id": "Oj403smAF59A",
      "execution_count": null,
      "outputs": []
    },
    {
      "cell_type": "code",
      "metadata": {
        "colab": {
          "base_uri": "https://localhost:8080/"
        },
        "id": "MegFMryhGm-D",
        "outputId": "a67781da-df63-4847-9fca-6853c891de5b"
      },
      "source": [
        "noise"
      ],
      "id": "MegFMryhGm-D",
      "execution_count": null,
      "outputs": [
        {
          "output_type": "execute_result",
          "data": {
            "text/plain": [
              "array([ 2.56754927e-01, -3.81306844e-01,  1.03688647e+00,  6.71735591e-01,\n",
              "        5.10560824e-01,  1.00613131e+00, -2.21925619e+00, -1.23398719e+00,\n",
              "        1.82844569e+00, -1.33442603e+00,  6.07578503e-01, -3.18585100e-01,\n",
              "       -6.43215162e-01,  1.74383088e+00, -4.96408930e-01, -3.21913211e+00,\n",
              "       -5.40203126e-02, -1.11090153e-01, -1.48949482e-01, -8.27825449e-01,\n",
              "       -2.16314501e+00,  5.70546194e-01, -1.50053892e+00, -3.18842113e-02,\n",
              "       -1.07478136e+00,  2.37305166e-01,  6.20547140e-01,  1.05460083e+00,\n",
              "        6.51202482e-01,  1.13064231e+00, -1.76067909e-01, -6.51932430e-01,\n",
              "       -1.02158962e+00, -1.08990775e+00,  9.53139553e-01,  3.44586991e-01,\n",
              "       -1.03495140e+00,  9.32469908e-01,  1.45151551e+00,  3.48446812e-03,\n",
              "       -1.60060082e+00,  1.46122016e+00, -6.01541360e-01,  4.06692130e-01,\n",
              "       -6.47104694e-01,  7.00981990e-01, -1.02083533e+00, -3.49186387e-01,\n",
              "       -2.58355373e-01, -6.88533649e-02, -6.39971309e-01,  1.13992368e+00,\n",
              "        1.29713302e+00, -1.26681365e+00, -2.02325818e-03,  4.00027800e-01,\n",
              "       -9.30130255e-01, -2.41815951e-01, -6.73294245e-01, -1.04723761e+00,\n",
              "        6.53836693e-01,  6.30882889e-01,  7.01337753e-01,  1.10471635e+00,\n",
              "       -5.81196410e-01, -1.10453560e-01, -5.50694464e-01,  1.04131149e+00,\n",
              "       -8.09715406e-01, -5.14727091e-02,  1.74103872e+00,  7.12561942e-01,\n",
              "        3.85692187e-01, -1.21466535e+00, -7.58505957e-01,  7.47915918e-01,\n",
              "        2.85773394e+00, -3.26591915e-01, -1.48884454e+00, -7.65510017e-01,\n",
              "        2.50192917e-01, -1.36069760e+00,  3.16334844e-01,  2.51577790e-01,\n",
              "       -6.72768677e-02, -5.40843073e-01,  4.55689528e-01,  8.52199618e-04,\n",
              "        7.87486156e-01, -4.71820714e-01, -3.22138634e-01,  1.07042835e+00,\n",
              "       -1.19400115e+00,  1.81036206e+00,  1.24465254e+00,  3.03839031e-01,\n",
              "        2.78496187e-01,  2.38691400e+00, -1.03263778e+00,  1.23867614e+00,\n",
              "       -6.68140653e-01,  4.91886868e-01, -7.38318124e-01,  5.25283131e-01,\n",
              "        1.12288073e+00, -1.51515215e+00,  3.36534474e-01,  1.06433925e+00,\n",
              "       -1.14103061e+00,  5.11560699e-01,  1.96869678e-01,  5.38224385e-01,\n",
              "        1.84312376e-01, -8.91323145e-01,  4.26649976e-01, -9.17180177e-01,\n",
              "        1.07597575e+00,  1.65490771e+00,  7.06468045e-01,  2.73193049e-01,\n",
              "        3.25734868e-01, -1.90869133e-01,  1.90984266e-01, -1.70911395e+00,\n",
              "        1.93560416e+00,  6.42483786e-01,  6.67067041e-01, -9.73883191e-01,\n",
              "        3.26200493e-01,  6.87973749e-01,  7.62860580e-01,  1.82471156e+00,\n",
              "        2.05579149e-01,  8.05837099e-01, -2.14600257e+00, -1.14039576e+00,\n",
              "        2.87985825e-01, -6.15685709e-01, -1.18388863e+00, -8.47738397e-01,\n",
              "       -4.98003855e-01,  9.25095713e-01,  1.30280247e+00,  4.53785673e-01,\n",
              "       -2.37515268e-01,  4.24573165e-01,  8.15631821e-01,  7.98873604e-01,\n",
              "       -1.17285677e+00,  3.93859257e-03, -1.02091263e+00, -2.94582536e-01,\n",
              "       -1.40164901e+00,  4.40258225e-01, -3.15221667e-01,  1.98907589e+00,\n",
              "        1.12078675e+00,  1.06391482e-01, -7.86307313e-01, -1.26719724e+00,\n",
              "        1.86564216e+00, -1.20005729e+00, -1.47100340e+00, -1.71943311e-01,\n",
              "       -6.88031209e-01,  3.38882322e-01, -3.93881927e-01, -6.61626116e-01,\n",
              "       -2.47557135e-01, -1.65977846e+00,  1.76988188e+00, -1.65282764e+00,\n",
              "       -1.11443037e+00,  5.68023199e-01,  2.80455095e+00,  4.31996767e-01,\n",
              "        1.06740259e+00, -3.36847899e-01,  4.62034906e-01,  2.42558144e+00,\n",
              "       -4.47689485e-01,  1.62804844e+00, -1.51680370e+00,  1.27000007e+00,\n",
              "        3.49096662e-01, -1.07904266e+00, -8.14554469e-01])"
            ]
          },
          "metadata": {
            "tags": []
          },
          "execution_count": 29
        }
      ]
    },
    {
      "cell_type": "code",
      "metadata": {
        "colab": {
          "base_uri": "https://localhost:8080/"
        },
        "id": "raNupmozGiBd",
        "outputId": "2769ec44-e0f4-4cca-b758-c0d31680a884"
      },
      "source": [
        "signal"
      ],
      "id": "raNupmozGiBd",
      "execution_count": null,
      "outputs": [
        {
          "output_type": "execute_result",
          "data": {
            "text/plain": [
              "array([-0.74324507, -1.37055416,  0.05839185, -0.29600634, -0.44642842,\n",
              "        0.05989475, -3.15474006, -2.15871837,  0.9144672 , -2.23765184,\n",
              "       -0.28489462, -1.20030553, -1.5141829 ,  0.88361582, -1.3458713 ,\n",
              "       -4.05784178, -0.8819773 , -0.92829445, -0.95540109, -1.62352437,\n",
              "       -2.94809125, -0.20364735, -2.26397978, -0.78457238, -1.81671685,\n",
              "       -0.49387763, -0.09988297,  0.34492341, -0.04772225,  0.44247026,\n",
              "       -0.85348726, -1.3185991 , -1.6775036 , -1.73506904,  0.31873095,\n",
              "       -0.27906892, -1.64785463,  0.33031937,  0.86011766, -0.57716069,\n",
              "       -2.17049329,  0.90208037, -1.14992846, -0.13094228, -1.17398641,\n",
              "        0.18485296, -1.52621167, -0.84381004, -0.74222634, -0.54197164,\n",
              "       -1.1023369 ,  0.68831078,  0.8562728 , -1.69692117, -0.4213781 ,\n",
              "       -0.00857435, -1.32797972, -0.62891273, -1.04963833, -1.412829  ,\n",
              "        0.29899798,  0.28679687,  0.36800442,  0.7821357 , -0.89302437,\n",
              "       -0.41152883, -0.84101704,  0.7617416 , -1.07853261, -0.30953723,\n",
              "        1.49372689,  0.4760028 ,  0.15988574, -1.42971912, -0.96280703,\n",
              "        0.55436753,  2.67493824, -0.49863493, -1.65013487, -0.91604765,\n",
              "        0.11040797, -1.48972986,  0.19805527,  0.14405091, -0.16405106,\n",
              "       -0.62686458,  0.38042071, -0.06366393,  0.73372272, -0.51483147,\n",
              "       -0.3543967 ,  1.04892298, -1.20475384,  1.81036206,  1.25540523,\n",
              "        0.32534441,  0.31075425,  2.42992475, -0.97887434,  1.30319227,\n",
              "       -0.59287184,  0.57790837, -0.64154393,  0.63281001,  1.2411603 ,\n",
              "       -1.38611989,  0.47631942,  1.21487689, -0.97974029,  0.68360371,\n",
              "        0.37966538,  0.73177277,  0.38861345, -0.67626938,  0.65245643,\n",
              "       -0.68062104,  1.32328758,  1.91297223,  0.97528525,  0.55276294,\n",
              "        0.61605745,  0.11020614,  0.50281222, -1.38653331,  2.2689375 ,\n",
              "        0.98656981,  1.02190575, -0.60829179,  0.70254458,  1.07507052,\n",
              "        1.16071004,  2.23331371,  0.62493399,  1.23594463, -1.70514235,\n",
              "       -0.68878286,  0.75035142, -0.14256743, -0.70001766, -0.35311474,\n",
              "        0.00737249,  1.44122475,  1.82968419,  0.99142008,  0.31087183,\n",
              "        0.98371295,  1.38552429,  1.37951877, -0.58145892,  0.60608913,\n",
              "       -0.4080094 ,  0.32907338, -0.76724041,  1.08541952,  0.34069231,\n",
              "        2.65574256,  1.79820611,  0.79456353, -0.08738258, -0.55751982,\n",
              "        2.58607226, -0.4688745 , -0.72906791,  0.58074486,  0.07540965,\n",
              "        1.11307587,  0.39106431,  0.13407281,  0.55889448, -0.84257416,\n",
              "        2.59783887, -0.81411797, -0.264968  ,  1.42823825,  3.67551869,\n",
              "        1.3137172 ,  1.95987571,  0.56637791,  1.3760134 ,  3.35031262,\n",
              "        0.48779439,  2.574285  , -0.55981446,  2.23774201,  1.32759129,\n",
              "       -0.08979534,  0.18544553])"
            ]
          },
          "metadata": {
            "tags": []
          },
          "execution_count": 30
        }
      ]
    },
    {
      "cell_type": "code",
      "metadata": {
        "id": "9frjg1cN_3lj"
      },
      "source": [
        "# adding noise to make data more realistic\n",
        "def gaussian_noise(signal):\n",
        "    noise = np.random.normal(0,0.05,187)\n",
        "    return signal + noise\n",
        "\n",
        "\n",
        "# Input to the model\n",
        "X_train_sm = X_train_sm.values\n",
        "# Adding noise\n",
        "for i in range(X_train_sm.shape[0]):\n",
        "    X_train_sm[i, :] = gaussian_noise(X_train_sm[i, :])\n",
        "\n",
        "# Converting X_train into dataframe\n",
        "X_train = pd.DataFrame(X_train_sm)"
      ],
      "id": "9frjg1cN_3lj",
      "execution_count": null,
      "outputs": []
    },
    {
      "cell_type": "code",
      "metadata": {
        "colab": {
          "base_uri": "https://localhost:8080/",
          "height": 422
        },
        "id": "DzmFgMZmOPwq",
        "outputId": "6ec9c2aa-9ca3-4541-f424-aa4d42714813"
      },
      "source": [
        "X_train"
      ],
      "id": "DzmFgMZmOPwq",
      "execution_count": null,
      "outputs": [
        {
          "output_type": "execute_result",
          "data": {
            "text/html": [
              "<div>\n",
              "<style scoped>\n",
              "    .dataframe tbody tr th:only-of-type {\n",
              "        vertical-align: middle;\n",
              "    }\n",
              "\n",
              "    .dataframe tbody tr th {\n",
              "        vertical-align: top;\n",
              "    }\n",
              "\n",
              "    .dataframe thead th {\n",
              "        text-align: right;\n",
              "    }\n",
              "</style>\n",
              "<table border=\"1\" class=\"dataframe\">\n",
              "  <thead>\n",
              "    <tr style=\"text-align: right;\">\n",
              "      <th></th>\n",
              "      <th>0</th>\n",
              "      <th>1</th>\n",
              "      <th>2</th>\n",
              "      <th>3</th>\n",
              "      <th>4</th>\n",
              "      <th>5</th>\n",
              "      <th>6</th>\n",
              "      <th>7</th>\n",
              "      <th>8</th>\n",
              "      <th>9</th>\n",
              "      <th>...</th>\n",
              "      <th>177</th>\n",
              "      <th>178</th>\n",
              "      <th>179</th>\n",
              "      <th>180</th>\n",
              "      <th>181</th>\n",
              "      <th>182</th>\n",
              "      <th>183</th>\n",
              "      <th>184</th>\n",
              "      <th>185</th>\n",
              "      <th>186</th>\n",
              "    </tr>\n",
              "  </thead>\n",
              "  <tbody>\n",
              "    <tr>\n",
              "      <th>0</th>\n",
              "      <td>0.949831</td>\n",
              "      <td>0.507966</td>\n",
              "      <td>0.224458</td>\n",
              "      <td>0.343892</td>\n",
              "      <td>0.119650</td>\n",
              "      <td>0.133028</td>\n",
              "      <td>0.112412</td>\n",
              "      <td>0.020578</td>\n",
              "      <td>0.011321</td>\n",
              "      <td>0.125480</td>\n",
              "      <td>...</td>\n",
              "      <td>-0.068168</td>\n",
              "      <td>-0.018549</td>\n",
              "      <td>-0.054535</td>\n",
              "      <td>0.011049</td>\n",
              "      <td>-0.071616</td>\n",
              "      <td>-0.030380</td>\n",
              "      <td>0.030590</td>\n",
              "      <td>0.044672</td>\n",
              "      <td>-0.076101</td>\n",
              "      <td>0.059347</td>\n",
              "    </tr>\n",
              "    <tr>\n",
              "      <th>1</th>\n",
              "      <td>0.958642</td>\n",
              "      <td>1.054360</td>\n",
              "      <td>0.982348</td>\n",
              "      <td>0.813347</td>\n",
              "      <td>0.494381</td>\n",
              "      <td>0.182130</td>\n",
              "      <td>0.205824</td>\n",
              "      <td>0.221335</td>\n",
              "      <td>0.203007</td>\n",
              "      <td>0.237710</td>\n",
              "      <td>...</td>\n",
              "      <td>-0.059139</td>\n",
              "      <td>-0.116710</td>\n",
              "      <td>-0.000044</td>\n",
              "      <td>-0.002725</td>\n",
              "      <td>-0.112505</td>\n",
              "      <td>-0.077437</td>\n",
              "      <td>0.057307</td>\n",
              "      <td>0.025240</td>\n",
              "      <td>0.019750</td>\n",
              "      <td>-0.018058</td>\n",
              "    </tr>\n",
              "    <tr>\n",
              "      <th>2</th>\n",
              "      <td>1.047526</td>\n",
              "      <td>0.922102</td>\n",
              "      <td>0.806111</td>\n",
              "      <td>0.435689</td>\n",
              "      <td>0.182796</td>\n",
              "      <td>0.013342</td>\n",
              "      <td>0.138919</td>\n",
              "      <td>0.118845</td>\n",
              "      <td>0.180900</td>\n",
              "      <td>0.218877</td>\n",
              "      <td>...</td>\n",
              "      <td>-0.068781</td>\n",
              "      <td>-0.000809</td>\n",
              "      <td>0.003612</td>\n",
              "      <td>-0.076577</td>\n",
              "      <td>-0.013747</td>\n",
              "      <td>0.009749</td>\n",
              "      <td>-0.018470</td>\n",
              "      <td>0.075980</td>\n",
              "      <td>-0.075845</td>\n",
              "      <td>0.001276</td>\n",
              "    </tr>\n",
              "    <tr>\n",
              "      <th>3</th>\n",
              "      <td>1.037283</td>\n",
              "      <td>0.762214</td>\n",
              "      <td>0.602138</td>\n",
              "      <td>0.398776</td>\n",
              "      <td>0.227342</td>\n",
              "      <td>0.203089</td>\n",
              "      <td>0.023798</td>\n",
              "      <td>0.105514</td>\n",
              "      <td>0.004084</td>\n",
              "      <td>0.014028</td>\n",
              "      <td>...</td>\n",
              "      <td>0.012211</td>\n",
              "      <td>0.071033</td>\n",
              "      <td>0.066689</td>\n",
              "      <td>-0.076686</td>\n",
              "      <td>-0.030175</td>\n",
              "      <td>0.103179</td>\n",
              "      <td>-0.019738</td>\n",
              "      <td>-0.014968</td>\n",
              "      <td>0.017922</td>\n",
              "      <td>-0.031484</td>\n",
              "    </tr>\n",
              "    <tr>\n",
              "      <th>4</th>\n",
              "      <td>0.923956</td>\n",
              "      <td>0.656318</td>\n",
              "      <td>0.125165</td>\n",
              "      <td>0.220369</td>\n",
              "      <td>0.031108</td>\n",
              "      <td>0.064510</td>\n",
              "      <td>0.315160</td>\n",
              "      <td>0.369677</td>\n",
              "      <td>0.476714</td>\n",
              "      <td>0.481027</td>\n",
              "      <td>...</td>\n",
              "      <td>-0.002635</td>\n",
              "      <td>-0.073836</td>\n",
              "      <td>0.042867</td>\n",
              "      <td>0.024373</td>\n",
              "      <td>0.016200</td>\n",
              "      <td>0.021826</td>\n",
              "      <td>0.041502</td>\n",
              "      <td>0.055798</td>\n",
              "      <td>-0.054840</td>\n",
              "      <td>-0.005645</td>\n",
              "    </tr>\n",
              "    <tr>\n",
              "      <th>...</th>\n",
              "      <td>...</td>\n",
              "      <td>...</td>\n",
              "      <td>...</td>\n",
              "      <td>...</td>\n",
              "      <td>...</td>\n",
              "      <td>...</td>\n",
              "      <td>...</td>\n",
              "      <td>...</td>\n",
              "      <td>...</td>\n",
              "      <td>...</td>\n",
              "      <td>...</td>\n",
              "      <td>...</td>\n",
              "      <td>...</td>\n",
              "      <td>...</td>\n",
              "      <td>...</td>\n",
              "      <td>...</td>\n",
              "      <td>...</td>\n",
              "      <td>...</td>\n",
              "      <td>...</td>\n",
              "      <td>...</td>\n",
              "      <td>...</td>\n",
              "    </tr>\n",
              "    <tr>\n",
              "      <th>16709</th>\n",
              "      <td>0.949357</td>\n",
              "      <td>0.726461</td>\n",
              "      <td>0.168740</td>\n",
              "      <td>0.030428</td>\n",
              "      <td>0.112034</td>\n",
              "      <td>0.068668</td>\n",
              "      <td>0.099215</td>\n",
              "      <td>0.019317</td>\n",
              "      <td>0.082334</td>\n",
              "      <td>0.066939</td>\n",
              "      <td>...</td>\n",
              "      <td>-0.008061</td>\n",
              "      <td>-0.122163</td>\n",
              "      <td>0.091744</td>\n",
              "      <td>-0.095406</td>\n",
              "      <td>0.069388</td>\n",
              "      <td>0.081378</td>\n",
              "      <td>-0.035618</td>\n",
              "      <td>0.070084</td>\n",
              "      <td>-0.003984</td>\n",
              "      <td>0.071311</td>\n",
              "    </tr>\n",
              "    <tr>\n",
              "      <th>16710</th>\n",
              "      <td>0.992138</td>\n",
              "      <td>0.857436</td>\n",
              "      <td>0.574144</td>\n",
              "      <td>0.386196</td>\n",
              "      <td>0.214214</td>\n",
              "      <td>0.178834</td>\n",
              "      <td>0.031594</td>\n",
              "      <td>0.105707</td>\n",
              "      <td>0.166533</td>\n",
              "      <td>0.092820</td>\n",
              "      <td>...</td>\n",
              "      <td>0.041474</td>\n",
              "      <td>0.008779</td>\n",
              "      <td>0.048600</td>\n",
              "      <td>-0.045885</td>\n",
              "      <td>-0.029813</td>\n",
              "      <td>0.021795</td>\n",
              "      <td>0.052503</td>\n",
              "      <td>-0.056580</td>\n",
              "      <td>-0.026150</td>\n",
              "      <td>0.020943</td>\n",
              "    </tr>\n",
              "    <tr>\n",
              "      <th>16711</th>\n",
              "      <td>0.986715</td>\n",
              "      <td>1.063374</td>\n",
              "      <td>0.490070</td>\n",
              "      <td>0.188196</td>\n",
              "      <td>0.066090</td>\n",
              "      <td>0.095258</td>\n",
              "      <td>0.158770</td>\n",
              "      <td>0.154047</td>\n",
              "      <td>0.168351</td>\n",
              "      <td>0.164435</td>\n",
              "      <td>...</td>\n",
              "      <td>-0.020076</td>\n",
              "      <td>-0.013174</td>\n",
              "      <td>0.028378</td>\n",
              "      <td>-0.006058</td>\n",
              "      <td>0.067483</td>\n",
              "      <td>0.095306</td>\n",
              "      <td>-0.007412</td>\n",
              "      <td>0.040110</td>\n",
              "      <td>0.005177</td>\n",
              "      <td>0.071181</td>\n",
              "    </tr>\n",
              "    <tr>\n",
              "      <th>16712</th>\n",
              "      <td>1.003591</td>\n",
              "      <td>0.926324</td>\n",
              "      <td>0.397134</td>\n",
              "      <td>0.212728</td>\n",
              "      <td>-0.015741</td>\n",
              "      <td>0.134774</td>\n",
              "      <td>0.264930</td>\n",
              "      <td>0.210968</td>\n",
              "      <td>0.291697</td>\n",
              "      <td>0.294871</td>\n",
              "      <td>...</td>\n",
              "      <td>-0.039747</td>\n",
              "      <td>0.026470</td>\n",
              "      <td>0.070912</td>\n",
              "      <td>0.062654</td>\n",
              "      <td>0.004774</td>\n",
              "      <td>0.005029</td>\n",
              "      <td>-0.102395</td>\n",
              "      <td>-0.032026</td>\n",
              "      <td>0.041123</td>\n",
              "      <td>0.021022</td>\n",
              "    </tr>\n",
              "    <tr>\n",
              "      <th>16713</th>\n",
              "      <td>0.955620</td>\n",
              "      <td>1.014730</td>\n",
              "      <td>0.525790</td>\n",
              "      <td>0.168309</td>\n",
              "      <td>0.134646</td>\n",
              "      <td>0.112001</td>\n",
              "      <td>0.323610</td>\n",
              "      <td>0.235945</td>\n",
              "      <td>0.271927</td>\n",
              "      <td>0.361736</td>\n",
              "      <td>...</td>\n",
              "      <td>-0.014734</td>\n",
              "      <td>-0.004315</td>\n",
              "      <td>-0.030887</td>\n",
              "      <td>-0.019225</td>\n",
              "      <td>0.020808</td>\n",
              "      <td>-0.053990</td>\n",
              "      <td>0.098129</td>\n",
              "      <td>-0.000488</td>\n",
              "      <td>-0.032694</td>\n",
              "      <td>-0.001832</td>\n",
              "    </tr>\n",
              "  </tbody>\n",
              "</table>\n",
              "<p>16714 rows × 187 columns</p>\n",
              "</div>"
            ],
            "text/plain": [
              "            0         1         2         3         4         5         6    \\\n",
              "0      0.949831  0.507966  0.224458  0.343892  0.119650  0.133028  0.112412   \n",
              "1      0.958642  1.054360  0.982348  0.813347  0.494381  0.182130  0.205824   \n",
              "2      1.047526  0.922102  0.806111  0.435689  0.182796  0.013342  0.138919   \n",
              "3      1.037283  0.762214  0.602138  0.398776  0.227342  0.203089  0.023798   \n",
              "4      0.923956  0.656318  0.125165  0.220369  0.031108  0.064510  0.315160   \n",
              "...         ...       ...       ...       ...       ...       ...       ...   \n",
              "16709  0.949357  0.726461  0.168740  0.030428  0.112034  0.068668  0.099215   \n",
              "16710  0.992138  0.857436  0.574144  0.386196  0.214214  0.178834  0.031594   \n",
              "16711  0.986715  1.063374  0.490070  0.188196  0.066090  0.095258  0.158770   \n",
              "16712  1.003591  0.926324  0.397134  0.212728 -0.015741  0.134774  0.264930   \n",
              "16713  0.955620  1.014730  0.525790  0.168309  0.134646  0.112001  0.323610   \n",
              "\n",
              "            7         8         9    ...       177       178       179  \\\n",
              "0      0.020578  0.011321  0.125480  ... -0.068168 -0.018549 -0.054535   \n",
              "1      0.221335  0.203007  0.237710  ... -0.059139 -0.116710 -0.000044   \n",
              "2      0.118845  0.180900  0.218877  ... -0.068781 -0.000809  0.003612   \n",
              "3      0.105514  0.004084  0.014028  ...  0.012211  0.071033  0.066689   \n",
              "4      0.369677  0.476714  0.481027  ... -0.002635 -0.073836  0.042867   \n",
              "...         ...       ...       ...  ...       ...       ...       ...   \n",
              "16709  0.019317  0.082334  0.066939  ... -0.008061 -0.122163  0.091744   \n",
              "16710  0.105707  0.166533  0.092820  ...  0.041474  0.008779  0.048600   \n",
              "16711  0.154047  0.168351  0.164435  ... -0.020076 -0.013174  0.028378   \n",
              "16712  0.210968  0.291697  0.294871  ... -0.039747  0.026470  0.070912   \n",
              "16713  0.235945  0.271927  0.361736  ... -0.014734 -0.004315 -0.030887   \n",
              "\n",
              "            180       181       182       183       184       185       186  \n",
              "0      0.011049 -0.071616 -0.030380  0.030590  0.044672 -0.076101  0.059347  \n",
              "1     -0.002725 -0.112505 -0.077437  0.057307  0.025240  0.019750 -0.018058  \n",
              "2     -0.076577 -0.013747  0.009749 -0.018470  0.075980 -0.075845  0.001276  \n",
              "3     -0.076686 -0.030175  0.103179 -0.019738 -0.014968  0.017922 -0.031484  \n",
              "4      0.024373  0.016200  0.021826  0.041502  0.055798 -0.054840 -0.005645  \n",
              "...         ...       ...       ...       ...       ...       ...       ...  \n",
              "16709 -0.095406  0.069388  0.081378 -0.035618  0.070084 -0.003984  0.071311  \n",
              "16710 -0.045885 -0.029813  0.021795  0.052503 -0.056580 -0.026150  0.020943  \n",
              "16711 -0.006058  0.067483  0.095306 -0.007412  0.040110  0.005177  0.071181  \n",
              "16712  0.062654  0.004774  0.005029 -0.102395 -0.032026  0.041123  0.021022  \n",
              "16713 -0.019225  0.020808 -0.053990  0.098129 -0.000488 -0.032694 -0.001832  \n",
              "\n",
              "[16714 rows x 187 columns]"
            ]
          },
          "metadata": {
            "tags": []
          },
          "execution_count": 32
        }
      ]
    },
    {
      "cell_type": "markdown",
      "metadata": {
        "id": "X2_wcnW2_3ll"
      },
      "source": [
        "**Here is a sample signal with added noise**"
      ],
      "id": "X2_wcnW2_3ll"
    },
    {
      "cell_type": "code",
      "metadata": {
        "id": "bMk3_X_o_3lm"
      },
      "source": [
        "x_sample = X_train.loc[5,:]\n",
        "x_original = x_train.loc[5,:]"
      ],
      "id": "bMk3_X_o_3lm",
      "execution_count": null,
      "outputs": []
    },
    {
      "cell_type": "code",
      "metadata": {
        "colab": {
          "base_uri": "https://localhost:8080/"
        },
        "id": "kywhSx443p-Q",
        "outputId": "3c51e63b-3f3d-4455-e706-913ba6dd1ef9"
      },
      "source": [
        "x_sample"
      ],
      "id": "kywhSx443p-Q",
      "execution_count": null,
      "outputs": [
        {
          "output_type": "execute_result",
          "data": {
            "text/plain": [
              "0      1.039736\n",
              "1      0.571771\n",
              "2      0.133149\n",
              "3      0.050509\n",
              "4      0.055055\n",
              "         ...   \n",
              "182    0.069491\n",
              "183    0.000338\n",
              "184   -0.029371\n",
              "185    0.055361\n",
              "186    0.059809\n",
              "Name: 5, Length: 187, dtype: float64"
            ]
          },
          "metadata": {
            "tags": []
          },
          "execution_count": 34
        }
      ]
    },
    {
      "cell_type": "code",
      "metadata": {
        "colab": {
          "base_uri": "https://localhost:8080/"
        },
        "id": "KIJoRNAfqOJL",
        "outputId": "4b7253bc-8913-4762-a986-08c23855f317"
      },
      "source": [
        "x_original"
      ],
      "id": "KIJoRNAfqOJL",
      "execution_count": null,
      "outputs": [
        {
          "output_type": "execute_result",
          "data": {
            "text/plain": [
              "0      1.000000\n",
              "1      0.579439\n",
              "2      0.120872\n",
              "3      0.039252\n",
              "4      0.037383\n",
              "         ...   \n",
              "182    0.000000\n",
              "183    0.000000\n",
              "184    0.000000\n",
              "185    0.000000\n",
              "186    0.000000\n",
              "Name: 5, Length: 187, dtype: float64"
            ]
          },
          "metadata": {
            "tags": []
          },
          "execution_count": 35
        }
      ]
    },
    {
      "cell_type": "code",
      "metadata": {
        "colab": {
          "base_uri": "https://localhost:8080/",
          "height": 380
        },
        "id": "6EQjM0qy_3lm",
        "outputId": "5ad38ce6-e27b-4fc2-ec20-b3044c3cf048"
      },
      "source": [
        "plt.figure(figsize = (12,6))\n",
        "plt.plot(x_original.index, x_original.values, color = 'limegreen', label='Original signal')\n",
        "plt.plot(x_sample.index, x_sample.values,color='orange', label='signal with noise')\n",
        "plt.title('Sample signal with added noise')\n",
        "plt.xlabel('Index')\n",
        "plt.ylabel('Sample signal with noise')\n",
        "\n",
        "plt.gcf().autofmt_xdate()   # Beautify the x-labels\n",
        "plt.autoscale(tight=True)\n",
        "\n",
        "plt.legend(loc='best')\n",
        "plt.grid(True, linestyle='dashed')"
      ],
      "id": "6EQjM0qy_3lm",
      "execution_count": null,
      "outputs": [
        {
          "output_type": "display_data",
          "data": {
            "image/png": "[encoded data removed]",
            "text/plain": [
              "<Figure size 864x432 with 1 Axes>"
            ]
          },
          "metadata": {
            "tags": [],
            "needs_background": "light"
          }
        }
      ]
    },
    {
      "cell_type": "markdown",
      "metadata": {
        "id": "caroline-newspaper"
      },
      "source": [
        "### Normalizing the data"
      ],
      "id": "caroline-newspaper"
    },
    {
      "cell_type": "code",
      "metadata": {
        "id": "binary-florist"
      },
      "source": [
        "from sklearn.preprocessing import  QuantileTransformer\n",
        "# Scale our continuous data in the range of 0 & 1\n",
        "# define min max scaler\n",
        "scaler = QuantileTransformer(output_distribution='normal')\n",
        "# fit & transform data\n",
        "x_train_scaled = scaler.fit_transform(X_train)\n",
        "x_val_scaled = scaler.transform(x_val)\n",
        "x_test_scaled = scaler.transform(x_test)"
      ],
      "id": "binary-florist",
      "execution_count": null,
      "outputs": []
    },
    {
      "cell_type": "markdown",
      "metadata": {
        "id": "a6IaFx7B_3lo"
      },
      "source": [
        "### Encoding the target classes with One hot coding"
      ],
      "id": "a6IaFx7B_3lo"
    },
    {
      "cell_type": "code",
      "metadata": {
        "id": "afGnBXfW_3lo"
      },
      "source": [
        "# One hot encoding the output of the model\n",
        "y_train = to_categorical(y_train_sm)\n",
        "y_val = to_categorical(y_val)\n",
        "y_test = to_categorical(y_test)"
      ],
      "id": "afGnBXfW_3lo",
      "execution_count": null,
      "outputs": []
    },
    {
      "cell_type": "code",
      "metadata": {
        "colab": {
          "base_uri": "https://localhost:8080/"
        },
        "id": "WOLS2YhbUY8W",
        "outputId": "cf4e2dd6-ba31-4b77-a30c-419a0db40a87"
      },
      "source": [
        "y_test"
      ],
      "id": "WOLS2YhbUY8W",
      "execution_count": null,
      "outputs": [
        {
          "output_type": "execute_result",
          "data": {
            "text/plain": [
              "array([[1., 0.],\n",
              "       [0., 1.],\n",
              "       [0., 1.],\n",
              "       ...,\n",
              "       [1., 0.],\n",
              "       [1., 0.],\n",
              "       [0., 1.]], dtype=float32)"
            ]
          },
          "metadata": {
            "tags": []
          },
          "execution_count": 39
        }
      ]
    },
    {
      "cell_type": "code",
      "metadata": {
        "colab": {
          "base_uri": "https://localhost:8080/"
        },
        "id": "umDT_M53_3lp",
        "outputId": "4bdef84b-406e-4181-8543-4447431d1873"
      },
      "source": [
        "y_train.shape"
      ],
      "id": "umDT_M53_3lp",
      "execution_count": null,
      "outputs": [
        {
          "output_type": "execute_result",
          "data": {
            "text/plain": [
              "(16714, 2)"
            ]
          },
          "metadata": {
            "tags": []
          },
          "execution_count": 40
        }
      ]
    },
    {
      "cell_type": "code",
      "metadata": {
        "colab": {
          "base_uri": "https://localhost:8080/"
        },
        "id": "ZuGJ23Os_3lp",
        "outputId": "6b113fe5-491f-4d31-acce-db5e4dff3445"
      },
      "source": [
        "X_train.shape"
      ],
      "id": "ZuGJ23Os_3lp",
      "execution_count": null,
      "outputs": [
        {
          "output_type": "execute_result",
          "data": {
            "text/plain": [
              "(16714, 187)"
            ]
          },
          "metadata": {
            "tags": []
          },
          "execution_count": 41
        }
      ]
    },
    {
      "cell_type": "markdown",
      "metadata": {
        "id": "oYn0lTue_3lr"
      },
      "source": [
        "Reshape the X_train, & X_test from (n_samples, n_features) to (n_samples, number of time steps, n_features) - CNN input format"
      ],
      "id": "oYn0lTue_3lr"
    },
    {
      "cell_type": "code",
      "metadata": {
        "colab": {
          "base_uri": "https://localhost:8080/"
        },
        "id": "qbQNjPEBVxf1",
        "outputId": "c2ec3e9a-ca19-4f32-f46a-ea7bb0f3bb40"
      },
      "source": [
        "x_train_scaled.shape[0]"
      ],
      "id": "qbQNjPEBVxf1",
      "execution_count": null,
      "outputs": [
        {
          "output_type": "execute_result",
          "data": {
            "text/plain": [
              "16714"
            ]
          },
          "metadata": {
            "tags": []
          },
          "execution_count": 42
        }
      ]
    },
    {
      "cell_type": "code",
      "metadata": {
        "colab": {
          "base_uri": "https://localhost:8080/"
        },
        "id": "4mbqXg4EVkJL",
        "outputId": "effafe7e-ce64-46c6-a97b-c12e08277953"
      },
      "source": [
        "x_train_scaled.shape[1]"
      ],
      "id": "4mbqXg4EVkJL",
      "execution_count": null,
      "outputs": [
        {
          "output_type": "execute_result",
          "data": {
            "text/plain": [
              "187"
            ]
          },
          "metadata": {
            "tags": []
          },
          "execution_count": 43
        }
      ]
    },
    {
      "cell_type": "code",
      "metadata": {
        "id": "zQBsfxc7_3lr"
      },
      "source": [
        "X_train =x_train_scaled.reshape(x_train_scaled.shape[0], 1, x_train_scaled.shape[1])   # number of time steps is 1\n",
        "X_val =x_val_scaled.reshape(x_val_scaled.shape[0], 1, x_val_scaled.shape[1])   # number of time steps is 1\n",
        "X_test = x_test_scaled.reshape(x_test_scaled.shape[0], 1, x_test_scaled.shape[1])     # number of time steps is 1"
      ],
      "id": "zQBsfxc7_3lr",
      "execution_count": null,
      "outputs": []
    },
    {
      "cell_type": "code",
      "metadata": {
        "colab": {
          "base_uri": "https://localhost:8080/"
        },
        "id": "ikDh1d8R_3ls",
        "outputId": "a1569268-59ea-43c2-c872-8d31232bcc5f"
      },
      "source": [
        "n_classes = y_train.shape[1]\n",
        "n_classes"
      ],
      "id": "ikDh1d8R_3ls",
      "execution_count": null,
      "outputs": [
        {
          "output_type": "execute_result",
          "data": {
            "text/plain": [
              "2"
            ]
          },
          "metadata": {
            "tags": []
          },
          "execution_count": 45
        }
      ]
    },
    {
      "cell_type": "markdown",
      "metadata": {
        "id": "p90BzT0-_3lt"
      },
      "source": [
        "## Building our CNN model"
      ],
      "id": "p90BzT0-_3lt"
    },
    {
      "cell_type": "markdown",
      "metadata": {
        "id": "6rXZ-2AT_3lt"
      },
      "source": [
        "The model has three Convolution1D layers & two Dropout layers. This is then followed by 2 Dense layers, two of which have ReLU activation function while the last layer has 2 nodes, corresponding to the 2 output class labels, with a Softmax activation function.   \n",
        "The softmax activation function is used for binary data."
      ],
      "id": "6rXZ-2AT_3lt"
    },
    {
      "cell_type": "code",
      "metadata": {
        "colab": {
          "base_uri": "https://localhost:8080/"
        },
        "id": "qMv4mQWa_3lu",
        "outputId": "1b79a426-b772-4b9e-d868-a0e28bd7f98d"
      },
      "source": [
        "input_shape = X_train.shape[1:]\n",
        "input_shape"
      ],
      "id": "qMv4mQWa_3lu",
      "execution_count": null,
      "outputs": [
        {
          "output_type": "execute_result",
          "data": {
            "text/plain": [
              "(1, 187)"
            ]
          },
          "metadata": {
            "tags": []
          },
          "execution_count": 46
        }
      ]
    },
    {
      "cell_type": "code",
      "metadata": {
        "id": "oxy7Fe_w_3lw"
      },
      "source": [
        "model = Sequential()\n",
        "model.add(Conv1D(filters=128, kernel_size=3, activation='relu', padding='same', input_shape=input_shape))\n",
        "model.add(Conv1D(filters=64, kernel_size=3, activation='relu', padding='same'))\n",
        "model.add(Conv1D(filters=64, kernel_size=3, activation='relu',padding='same'))\n",
        "model.add(Dropout(0.5))\n",
        "model.add(Dense(64, activation='relu'))    # Fully connected layer\n",
        "model.add(Dropout(0.5))\n",
        "model.add(Dense(32, activation='relu'))    # Fully connected layer\n",
        "model.add(Flatten())\n",
        "model.add(Dense(n_classes, activation='sigmoid'))"
      ],
      "id": "oxy7Fe_w_3lw",
      "execution_count": null,
      "outputs": []
    },
    {
      "cell_type": "code",
      "metadata": {
        "id": "4lwSFEuL_3ly"
      },
      "source": [
        "# Compile model\n",
        "model.compile(optimizer = Adam(0.001),\n",
        "                loss = 'binary_crossentropy',\n",
        "                metrics = ['accuracy'])"
      ],
      "id": "4lwSFEuL_3ly",
      "execution_count": null,
      "outputs": []
    },
    {
      "cell_type": "code",
      "metadata": {
        "colab": {
          "base_uri": "https://localhost:8080/"
        },
        "id": "Px2raxBg_3lz",
        "outputId": "2d39950b-ced6-456b-ccb4-39a33d580376"
      },
      "source": [
        "print('Model summary')\n",
        "print(model.summary())\n",
        "\n",
        "print(\"inputs: \" , model.input_shape)\n",
        "print(\"outputs: \", model.output_shape)\n",
        "print(\"actual inputs: \", np.shape(X_train))\n",
        "print(\"actual outputs: \", np.shape(y_train))"
      ],
      "id": "Px2raxBg_3lz",
      "execution_count": null,
      "outputs": [
        {
          "output_type": "stream",
          "text": [
            "Model summary\n",
            "Model: \"sequential\"\n",
            "_________________________________________________________________\n",
            "Layer (type)                 Output Shape              Param #   \n",
            "=================================================================\n",
            "conv1d (Conv1D)              (None, 1, 128)            71936     \n",
            "_________________________________________________________________\n",
            "conv1d_1 (Conv1D)            (None, 1, 64)             24640     \n",
            "_________________________________________________________________\n",
            "conv1d_2 (Conv1D)            (None, 1, 64)             12352     \n",
            "_________________________________________________________________\n",
            "dropout (Dropout)            (None, 1, 64)             0         \n",
            "_________________________________________________________________\n",
            "dense (Dense)                (None, 1, 64)             4160      \n",
            "_________________________________________________________________\n",
            "dropout_1 (Dropout)          (None, 1, 64)             0         \n",
            "_________________________________________________________________\n",
            "dense_1 (Dense)              (None, 1, 32)             2080      \n",
            "_________________________________________________________________\n",
            "flatten (Flatten)            (None, 32)                0         \n",
            "_________________________________________________________________\n",
            "dense_2 (Dense)              (None, 2)                 66        \n",
            "=================================================================\n",
            "Total params: 115,234\n",
            "Trainable params: 115,234\n",
            "Non-trainable params: 0\n",
            "_________________________________________________________________\n",
            "None\n",
            "inputs:  (None, 1, 187)\n",
            "outputs:  (None, 2)\n",
            "actual inputs:  (16714, 1, 187)\n",
            "actual outputs:  (16714, 2)\n"
          ],
          "name": "stdout"
        }
      ]
    },
    {
      "cell_type": "markdown",
      "metadata": {
        "id": "Jq6xGqAjE7po"
      },
      "source": [
        "### Plotting the model"
      ],
      "id": "Jq6xGqAjE7po"
    },
    {
      "cell_type": "code",
      "metadata": {
        "colab": {
          "base_uri": "https://localhost:8080/",
          "height": 953
        },
        "id": "a_JypOiF7Kip",
        "outputId": "d29f9281-5cd5-43d4-9ba1-48333a425d62"
      },
      "source": [
        "from IPython.display import Image\n",
        "from keras.utils.vis_utils import model_to_dot\n",
        "\n",
        "Image(model_to_dot(model).create(prog='dot', format='png'))"
      ],
      "id": "a_JypOiF7Kip",
      "execution_count": null,
      "outputs": [
        {
          "output_type": "execute_result",
          "data": {
            "image/png": "[encoded data removed]",
            "text/plain": [
              "<IPython.core.display.Image object>"
            ]
          },
          "metadata": {
            "tags": []
          },
          "execution_count": 50
        }
      ]
    },
    {
      "cell_type": "markdown",
      "metadata": {
        "id": "fu8pYymY8BQU"
      },
      "source": [
        "### Training the model\n",
        "\n"
      ],
      "id": "fu8pYymY8BQU"
    },
    {
      "cell_type": "code",
      "metadata": {
        "colab": {
          "base_uri": "https://localhost:8080/"
        },
        "id": "NMEUUujk_3mP",
        "outputId": "5a4169d2-1215-430c-f346-3ee12521f9b4"
      },
      "source": [
        "batch_size = 16\n",
        "\n",
        "history=model.fit(X_train, y_train, batch_size=batch_size,epochs=20,validation_data=(X_val, y_val))"
      ],
      "id": "NMEUUujk_3mP",
      "execution_count": null,
      "outputs": [
        {
          "output_type": "stream",
          "text": [
            "Epoch 1/20\n",
            "1045/1045 [==============================] - 3s 3ms/step - loss: 0.4035 - accuracy: 0.8239 - val_loss: 0.2430 - val_accuracy: 0.8935\n",
            "Epoch 2/20\n",
            "1045/1045 [==============================] - 2s 2ms/step - loss: 0.2537 - accuracy: 0.8989 - val_loss: 0.1676 - val_accuracy: 0.9306\n",
            "Epoch 3/20\n",
            "1045/1045 [==============================] - 3s 2ms/step - loss: 0.1958 - accuracy: 0.9243 - val_loss: 0.1383 - val_accuracy: 0.9437\n",
            "Epoch 4/20\n",
            "1045/1045 [==============================] - 2s 2ms/step - loss: 0.1581 - accuracy: 0.9387 - val_loss: 0.1285 - val_accuracy: 0.9505\n",
            "Epoch 5/20\n",
            "1045/1045 [==============================] - 2s 2ms/step - loss: 0.1341 - accuracy: 0.9507 - val_loss: 0.1225 - val_accuracy: 0.9471\n",
            "Epoch 6/20\n",
            "1045/1045 [==============================] - 2s 2ms/step - loss: 0.1091 - accuracy: 0.9589 - val_loss: 0.1237 - val_accuracy: 0.9519\n",
            "Epoch 7/20\n",
            "1045/1045 [==============================] - 3s 3ms/step - loss: 0.0982 - accuracy: 0.9649 - val_loss: 0.1205 - val_accuracy: 0.9581\n",
            "Epoch 8/20\n",
            "1045/1045 [==============================] - 3s 3ms/step - loss: 0.0878 - accuracy: 0.9689 - val_loss: 0.1432 - val_accuracy: 0.9512\n",
            "Epoch 9/20\n",
            "1045/1045 [==============================] - 3s 3ms/step - loss: 0.0722 - accuracy: 0.9754 - val_loss: 0.1147 - val_accuracy: 0.9588\n",
            "Epoch 10/20\n",
            "1045/1045 [==============================] - 3s 3ms/step - loss: 0.0674 - accuracy: 0.9742 - val_loss: 0.1146 - val_accuracy: 0.9629\n",
            "Epoch 11/20\n",
            "1045/1045 [==============================] - 3s 3ms/step - loss: 0.0560 - accuracy: 0.9799 - val_loss: 0.0992 - val_accuracy: 0.9629\n",
            "Epoch 12/20\n",
            "1045/1045 [==============================] - 3s 3ms/step - loss: 0.0513 - accuracy: 0.9825 - val_loss: 0.1147 - val_accuracy: 0.9657\n",
            "Epoch 13/20\n",
            "1045/1045 [==============================] - 2s 2ms/step - loss: 0.0454 - accuracy: 0.9846 - val_loss: 0.1064 - val_accuracy: 0.9581\n",
            "Epoch 14/20\n",
            "1045/1045 [==============================] - 3s 3ms/step - loss: 0.0433 - accuracy: 0.9865 - val_loss: 0.0901 - val_accuracy: 0.9718\n",
            "Epoch 15/20\n",
            "1045/1045 [==============================] - 2s 2ms/step - loss: 0.0367 - accuracy: 0.9879 - val_loss: 0.1246 - val_accuracy: 0.9602\n",
            "Epoch 16/20\n",
            "1045/1045 [==============================] - 2s 2ms/step - loss: 0.0315 - accuracy: 0.9898 - val_loss: 0.0811 - val_accuracy: 0.9725\n",
            "Epoch 17/20\n",
            "1045/1045 [==============================] - 2s 2ms/step - loss: 0.0348 - accuracy: 0.9876 - val_loss: 0.1226 - val_accuracy: 0.9650\n",
            "Epoch 18/20\n",
            "1045/1045 [==============================] - 2s 2ms/step - loss: 0.0321 - accuracy: 0.9893 - val_loss: 0.0812 - val_accuracy: 0.9739\n",
            "Epoch 19/20\n",
            "1045/1045 [==============================] - 2s 2ms/step - loss: 0.0350 - accuracy: 0.9891 - val_loss: 0.1333 - val_accuracy: 0.9622\n",
            "Epoch 20/20\n",
            "1045/1045 [==============================] - 2s 2ms/step - loss: 0.0268 - accuracy: 0.9915 - val_loss: 0.0809 - val_accuracy: 0.9725\n"
          ],
          "name": "stdout"
        }
      ]
    },
    {
      "cell_type": "code",
      "metadata": {
        "colab": {
          "base_uri": "https://localhost:8080/"
        },
        "id": "r5j7kqy6_3mV",
        "outputId": "8a388a26-89ff-4696-a57d-b21c2dd62f46"
      },
      "source": [
        "# list all data in history\n",
        "print(history.history.keys())"
      ],
      "id": "r5j7kqy6_3mV",
      "execution_count": null,
      "outputs": [
        {
          "output_type": "stream",
          "text": [
            "dict_keys(['loss', 'accuracy', 'val_loss', 'val_accuracy'])\n"
          ],
          "name": "stdout"
        }
      ]
    },
    {
      "cell_type": "code",
      "metadata": {
        "colab": {
          "base_uri": "https://localhost:8080/",
          "height": 295
        },
        "id": "zKdLrYXj_3mX",
        "outputId": "cf42add5-ff5a-40c5-e2d7-0dd7405ff115"
      },
      "source": [
        "# summarize history for accuracy\n",
        "plt.plot(history.history['accuracy'])\n",
        "plt.plot(history.history['val_accuracy'])\n",
        "plt.title('model accuracy')\n",
        "plt.ylabel('accuracy')\n",
        "plt.xlabel('epoch')\n",
        "plt.legend(['train', 'validation'], loc='upper left')\n",
        "plt.show()"
      ],
      "id": "zKdLrYXj_3mX",
      "execution_count": null,
      "outputs": [
        {
          "output_type": "display_data",
          "data": {
            "image/png": "[encoded data removed]",
            "text/plain": [
              "<Figure size 432x288 with 1 Axes>"
            ]
          },
          "metadata": {
            "tags": [],
            "needs_background": "light"
          }
        }
      ]
    },
    {
      "cell_type": "code",
      "metadata": {
        "colab": {
          "base_uri": "https://localhost:8080/",
          "height": 295
        },
        "id": "ME7N14O8_3md",
        "outputId": "2ed1fa7b-a7c6-4410-81a9-9ae64e8592ac"
      },
      "source": [
        "# summarize history for loss\n",
        "plt.plot(history.history['loss'])\n",
        "plt.plot(history.history['val_loss'])\n",
        "plt.title('model loss')\n",
        "plt.ylabel('loss')\n",
        "plt.xlabel('epoch')\n",
        "plt.legend(['train', 'validation'], loc='upper left')\n",
        "plt.show()"
      ],
      "id": "ME7N14O8_3md",
      "execution_count": null,
      "outputs": [
        {
          "output_type": "display_data",
          "data": {
            "image/png": "[encoded data removed]",
            "text/plain": [
              "<Figure size 432x288 with 1 Axes>"
            ]
          },
          "metadata": {
            "tags": [],
            "needs_background": "light"
          }
        }
      ]
    },
    {
      "cell_type": "markdown",
      "metadata": {
        "id": "9HsvXdJY_3md"
      },
      "source": [
        "### Model performance on testing data"
      ],
      "id": "9HsvXdJY_3md"
    },
    {
      "cell_type": "code",
      "metadata": {
        "colab": {
          "base_uri": "https://localhost:8080/"
        },
        "id": "Ouc0cTqD_3me",
        "outputId": "2b59932f-2072-479e-e164-3374f141ad70"
      },
      "source": [
        "y_pred_prob = model.predict(X_test)\n",
        "y_pred_prob"
      ],
      "id": "Ouc0cTqD_3me",
      "execution_count": null,
      "outputs": [
        {
          "output_type": "execute_result",
          "data": {
            "text/plain": [
              "array([[9.9992597e-01, 7.0396229e-05],\n",
              "       [2.3555551e-09, 1.0000000e+00],\n",
              "       [6.9907308e-04, 9.9906492e-01],\n",
              "       ...,\n",
              "       [9.9934876e-01, 7.0038438e-04],\n",
              "       [9.9999899e-01, 1.0201890e-06],\n",
              "       [2.2913964e-06, 9.9999595e-01]], dtype=float32)"
            ]
          },
          "metadata": {
            "tags": []
          },
          "execution_count": 55
        }
      ]
    },
    {
      "cell_type": "code",
      "metadata": {
        "colab": {
          "base_uri": "https://localhost:8080/"
        },
        "id": "HgchnO5R_3mf",
        "outputId": "1619603d-0d7b-4a1f-a182-734bfa3bb111"
      },
      "source": [
        "# Convert class probabilities to classes\n",
        "y_pred = y_pred_prob.argmax(axis=1)\n",
        "y_pred"
      ],
      "id": "HgchnO5R_3mf",
      "execution_count": null,
      "outputs": [
        {
          "output_type": "execute_result",
          "data": {
            "text/plain": [
              "array([0, 1, 1, ..., 0, 0, 1])"
            ]
          },
          "metadata": {
            "tags": []
          },
          "execution_count": 56
        }
      ]
    },
    {
      "cell_type": "code",
      "metadata": {
        "colab": {
          "base_uri": "https://localhost:8080/"
        },
        "id": "q5ZZJ0Rq_3mg",
        "outputId": "a058258f-606e-4b67-c72a-23def73bc766"
      },
      "source": [
        "y_test = y_test.argmax(axis=1)\n",
        "y_test"
      ],
      "id": "q5ZZJ0Rq_3mg",
      "execution_count": null,
      "outputs": [
        {
          "output_type": "execute_result",
          "data": {
            "text/plain": [
              "array([0, 1, 1, ..., 0, 0, 1])"
            ]
          },
          "metadata": {
            "tags": []
          },
          "execution_count": 57
        }
      ]
    },
    {
      "cell_type": "markdown",
      "metadata": {
        "id": "_RviuFI5_3mh"
      },
      "source": [
        "### Confusion matrix"
      ],
      "id": "_RviuFI5_3mh"
    },
    {
      "cell_type": "code",
      "metadata": {
        "colab": {
          "base_uri": "https://localhost:8080/",
          "height": 388
        },
        "id": "dBdzr06C_3mi",
        "outputId": "4957b81f-ec66-47d7-def5-1f66831850c4"
      },
      "source": [
        "def show_confusion_matrix(confusion_matrix):\n",
        "  plt.figure(figsize=(12,6))\n",
        "  hmap = sns.heatmap(confusion_matrix, annot=True, fmt=\"d\", cmap=\"cool\")\n",
        "  hmap.yaxis.set_ticklabels(hmap.yaxis.get_ticklabels(),rotation=0, ha='right')\n",
        "  hmap.xaxis.set_ticklabels(hmap.xaxis.get_ticklabels(),rotation=0, ha='right')\n",
        "  plt.ylabel('True sentiment')\n",
        "  plt.xlabel('Predicted sentiment');\n",
        "cm = confusion_matrix(y_test, y_pred)\n",
        "df_cm = pd.DataFrame(cm, index=class_names, columns=class_names)\n",
        "show_confusion_matrix(df_cm)"
      ],
      "id": "dBdzr06C_3mi",
      "execution_count": null,
      "outputs": [
        {
          "output_type": "display_data",
          "data": {
            "image/png": "[encoded data removed]",
            "text/plain": [
              "<Figure size 864x432 with 2 Axes>"
            ]
          },
          "metadata": {
            "tags": [],
            "needs_background": "light"
          }
        }
      ]
    },
    {
      "cell_type": "code",
      "metadata": {
        "colab": {
          "base_uri": "https://localhost:8080/"
        },
        "id": "kWB0U6uifAT-",
        "outputId": "ad0635bc-fab8-4a1c-8e32-87eb9e3d5aba"
      },
      "source": [
        "cm"
      ],
      "id": "kWB0U6uifAT-",
      "execution_count": null,
      "outputs": [
        {
          "output_type": "execute_result",
          "data": {
            "text/plain": [
              "array([[ 363,   14],\n",
              "       [  43, 1035]])"
            ]
          },
          "metadata": {
            "tags": []
          },
          "execution_count": 59
        }
      ]
    },
    {
      "cell_type": "markdown",
      "metadata": {
        "id": "9HezdKgr_3mk"
      },
      "source": [
        "### Classification Report"
      ],
      "id": "9HezdKgr_3mk"
    },
    {
      "cell_type": "code",
      "metadata": {
        "colab": {
          "base_uri": "https://localhost:8080/"
        },
        "id": "k7dxtdNA_3mk",
        "outputId": "93fe1306-7190-48f2-e5e9-d1d1ad044cf6"
      },
      "source": [
        "class_report= classification_report(y_test, y_pred)\n",
        "print(class_report)"
      ],
      "id": "k7dxtdNA_3mk",
      "execution_count": null,
      "outputs": [
        {
          "output_type": "stream",
          "text": [
            "              precision    recall  f1-score   support\n",
            "\n",
            "           0       0.89      0.96      0.93       377\n",
            "           1       0.99      0.96      0.97      1078\n",
            "\n",
            "    accuracy                           0.96      1455\n",
            "   macro avg       0.94      0.96      0.95      1455\n",
            "weighted avg       0.96      0.96      0.96      1455\n",
            "\n"
          ],
          "name": "stdout"
        }
      ]
    },
    {
      "cell_type": "markdown",
      "metadata": {
        "id": "yKygyrpg_3ml"
      },
      "source": [
        "I was able to achieve **accuracy of 0.96 & f1_score of 0.96** for the testing data."
      ],
      "id": "yKygyrpg_3ml"
    },
    {
      "cell_type": "markdown",
      "metadata": {
        "id": "4_-MPTeE_3mt"
      },
      "source": [
        "For imbalanced dataset, **the precision-recall curve & ROC curve** are better metrics for evaluating our model performance."
      ],
      "id": "4_-MPTeE_3mt"
    },
    {
      "cell_type": "markdown",
      "metadata": {
        "id": "kA8yNWeU_3mu"
      },
      "source": [
        "### Plot PR (Precision-Recall) curve:"
      ],
      "id": "kA8yNWeU_3mu"
    },
    {
      "cell_type": "code",
      "metadata": {
        "id": "direct-surveillance",
        "outputId": "6b00cf4b-cd32-4a08-b057-6191ef584215"
      },
      "source": [
        "# Plot PR curve\n",
        "skplt.metrics.plot_precision_recall(y_test, y_pred_prob, figsize = (12,6), text_fontsize = 15, title_fontsize = 15,\n",
        "                                   cmap = 'winter')\n",
        "plt.show()"
      ],
      "id": "direct-surveillance",
      "execution_count": null,
      "outputs": [
        {
          "output_type": "display_data",
          "data": {
            "image/png": "[encoded data removed]",
            "text/plain": [
              "<Figure size 864x432 with 1 Axes>"
            ]
          },
          "metadata": {
            "tags": [],
            "needs_background": "light"
          }
        }
      ]
    },
    {
      "cell_type": "markdown",
      "metadata": {
        "id": "1Rj-EU0D_3mv"
      },
      "source": [
        "### ROC (Receiver operating characterstic) curve:"
      ],
      "id": "1Rj-EU0D_3mv"
    },
    {
      "cell_type": "code",
      "metadata": {
        "id": "automotive-temperature",
        "outputId": "9e297f2a-8053-4e58-d731-16ef8722b8b9"
      },
      "source": [
        "# Plot ROC curve\n",
        "skplt.metrics.plot_roc(y_test, y_pred_prob, figsize = (12,6), text_fontsize = 15, title_fontsize = 15,\n",
        "                      cmap = 'winter')\n",
        "plt.show()"
      ],
      "id": "automotive-temperature",
      "execution_count": null,
      "outputs": [
        {
          "output_type": "display_data",
          "data": {
            "image/png": "[encoded data removed]",
            "text/plain": [
              "<Figure size 864x432 with 1 Axes>"
            ]
          },
          "metadata": {
            "tags": [],
            "needs_background": "light"
          }
        }
      ]
    },
    {
      "cell_type": "markdown",
      "metadata": {
        "id": "0Hvc5T8z_3nA"
      },
      "source": [
        "### Model prediction on random signal"
      ],
      "id": "0Hvc5T8z_3nA"
    },
    {
      "cell_type": "markdown",
      "metadata": {
        "id": "Pvwir5IR_3nA"
      },
      "source": [
        "Let’s randomly visualize some of the heartbeat signals while performing predictions using our model."
      ],
      "id": "Pvwir5IR_3nA"
    },
    {
      "cell_type": "code",
      "metadata": {
        "colab": {
          "base_uri": "https://localhost:8080/",
          "height": 298
        },
        "id": "NmNz5Wfb_3nB",
        "outputId": "2f03251a-9426-4893-b127-fea3d2b3dc45"
      },
      "source": [
        "i = random.randint(0, len(X_test)-1)\n",
        "output = model(np.expand_dims(X_test[i], 0))\n",
        "x_random = pd.DataFrame(X_test[i])\n",
        "x_random = x_random.loc[0,:]\n",
        "pred = output.numpy()[0]\n",
        "plt.plot(x_random.index, x_random.values)\n",
        "print(\"Actual label: \", class_names[np.argmax(y_test[i])])\n",
        "print(\"Model prediction : \", class_names[np.argmax(pred)],\n",
        "      \" with probability \", pred[np.argmax(pred)])"
      ],
      "id": "NmNz5Wfb_3nB",
      "execution_count": null,
      "outputs": [
        {
          "output_type": "stream",
          "text": [
            "Actual label:  A\n",
            "Model prediction :  A  with probability  0.99999356\n"
          ],
          "name": "stdout"
        },
        {
          "output_type": "display_data",
          "data": {
            "image/png": "[encoded data removed]",
            "text/plain": [
              "<Figure size 432x288 with 1 Axes>"
            ]
          },
          "metadata": {
            "tags": [],
            "needs_background": "light"
          }
        }
      ]
    }
  ]
}
